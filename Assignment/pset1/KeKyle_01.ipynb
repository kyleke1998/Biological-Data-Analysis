{
 "cells": [
  {
   "cell_type": "markdown",
   "metadata": {},
   "source": [
    "## Loading in the data"
   ]
  },
  {
   "cell_type": "code",
   "execution_count": 1,
   "metadata": {},
   "outputs": [],
   "source": [
    "\n",
    "\n",
    "Moriarty_SuppTable1_name = 'Moriarty_SuppTable1.txt' # Define the file name for Moriarty_SuppTable1\n",
    "\n",
    "\n",
    "tpmdata    = {}  # Instantiate an empty dictionary as the data structure to store a table.                      \n",
    "                                       \n",
    "for line in open(Moriarty_SuppTable1_name):  # Iterate through each line in the file\n",
    "    \n",
    "    if line[0] == '#': continue    # Skips the first line with the headers\n",
    "    line   = line.rstrip('\\n')     # Remove trailing white spaces \n",
    "    fields = line.split()  # Split line into fields corresponding to gene_name and various time points         \n",
    "\n",
    "    tpmdata[fields[0]] = [float(s) for s in fields[1:6]] # Assigning gene_name as key and measurements at time points stored in a list as the value\n",
    "    \n",
    "Moriarty_SuppTable1 = tpmdata\n"
   ]
  },
  {
   "cell_type": "code",
   "execution_count": 2,
   "metadata": {},
   "outputs": [],
   "source": [
    "Adler_SuppTable2_name = 'Adler_SuppTable2.txt' # Define the file name for Adler_SuppTable2\n",
    "\n",
    "tpmdata    = {}   # Instantiate an empty dictionary as the data structure to store a table.                      \n",
    "                                       \n",
    "for line in open(Adler_SuppTable2_name):  \n",
    "    \n",
    "    if line[0] == '#': continue      # Skips the first line with the headers\n",
    "    line   = line.rstrip('\\n')       # Remove trailing white spaces\n",
    "    fields = line.split()           # Split line into fields \n",
    "\n",
    "    tpmdata[fields[0]] = [float(s) for s in fields[1:3]]  # Assigning gene_name as key and synth_rate and halflife stored in a list as the value\n",
    "    \n",
    "Adler_SuppTable2 = tpmdata\n",
    "\n"
   ]
  },
  {
   "cell_type": "markdown",
   "metadata": {},
   "source": [
    "## 1. Check that the gene names \n",
    "### Gene names in the form of a date such as '8-Sep' may have originally been 'Sept8' but was errnously changed to '8-Sep' by excel's automatic date conversion feature. Therefore, excel should not part of the preprocess pipline. \n"
   ]
  },
  {
   "cell_type": "code",
   "execution_count": 3,
   "metadata": {},
   "outputs": [
    {
     "data": {
      "text/plain": [
       "{'1-Dec',\n",
       " '1-Mar',\n",
       " '1-Sep',\n",
       " '10-Mar',\n",
       " '10-Sep',\n",
       " '11-Mar',\n",
       " '11-Sep',\n",
       " '12-Sep',\n",
       " '14-Sep',\n",
       " '15-Sep',\n",
       " '2-Mar',\n",
       " '2-Sep',\n",
       " '3-Mar',\n",
       " '3-Sep',\n",
       " '4-Mar',\n",
       " '4-Sep',\n",
       " '5-Mar',\n",
       " '5-Sep',\n",
       " '6-Mar',\n",
       " '6-Sep',\n",
       " '7-Mar',\n",
       " '7-Sep',\n",
       " '8-Mar',\n",
       " '8-Sep',\n",
       " '9-Mar',\n",
       " '9-Sep'}"
      ]
     },
     "execution_count": 3,
     "metadata": {},
     "output_type": "execute_result"
    }
   ],
   "source": [
    "Moriarty_SuppTable_gene_names = set(Moriarty_SuppTable1.keys()) # Turn gene names from dict_keys into a set\n",
    "Adler_SuppTable2_gene_names = set(Adler_SuppTable2.keys()) # Turn gene names from dict_keys into a set\n",
    "Moriarty_SuppTable_gene_names.difference(Adler_SuppTable2_gene_names) # Perform the difference between the two sets to get the gene names unique to Moriarty_SuppTable1\n",
    "\n"
   ]
  },
  {
   "cell_type": "markdown",
   "metadata": {},
   "source": [
    "## 2. Explore the data\n",
    "### I observed that genes with the highest mRNA synthesis rates tend to have shorter half lives, whereas genes with the higest mRNA half lives tend to have lower mRNA synthesis rates. \n"
   ]
  },
  {
   "cell_type": "markdown",
   "metadata": {},
   "source": [
    "### 2.1 Output the five genes with the highest mRNA synthesis rate. "
   ]
  },
  {
   "cell_type": "code",
   "execution_count": 4,
   "metadata": {},
   "outputs": [
    {
     "name": "stdout",
     "output_type": "stream",
     "text": [
      "Genes with top five synthesis rate:\n",
      "CCDC169-SOHLH2\n",
      "DDX60L\n",
      "LRRK1\n",
      "SLC25A45\n",
      "FARP1\n"
     ]
    }
   ],
   "source": [
    "\"\"\"\n",
    "Using the sorted() python built in function\n",
    "pass in the dictionary Adler_SuppTable2 as the iterable, and the lambda function passed into the 'key' argument tells the function to sort\n",
    "based on synth_rate. Subset only the first five.\n",
    "\"\"\"\n",
    "top_five_synth_rate = sorted(Adler_SuppTable2.items(), key=lambda gene: gene[1][0],reverse=True)[0:5] \n",
    "\n",
    "print('Genes with top five synthesis rate:')\n",
    "for gene in top_five_synth_rate: \n",
    "    print(gene[0])\n",
    "\n"
   ]
  },
  {
   "cell_type": "markdown",
   "metadata": {},
   "source": [
    "### 2.2 Output the five genes with the longest mRNA halflife. (i.e. in Adler_SuppTable2)"
   ]
  },
  {
   "cell_type": "code",
   "execution_count": 5,
   "metadata": {},
   "outputs": [
    {
     "name": "stdout",
     "output_type": "stream",
     "text": [
      "Genes with top five half life:\n",
      "TFRC\n",
      "SPINK8\n",
      "DIRC1\n",
      "PLA1A\n",
      "SAMSN1\n"
     ]
    }
   ],
   "source": [
    "\"\"\"\n",
    "Using the sorted() python built in function\n",
    "pass in the dictionary Adler_SuppTable2 as the iterable, and the lambda function passed into the 'key' argument tells the function to sort\n",
    "based on halflife. Subset only the first five.\n",
    "\"\"\"\n",
    "top_five_halflife = sorted(Adler_SuppTable2.items(), key=lambda gene: gene[1][1],reverse=True)[0:5] \n",
    "\n",
    "print('Genes with top five half life:')\n",
    "for gene in top_five_halflife:\n",
    "    print(gene[0])\n",
    "\n",
    "\n"
   ]
  },
  {
   "cell_type": "markdown",
   "metadata": {},
   "source": [
    "###  2.3 Output the five genes that have the highest ratio of expression at t=96 hours post-mortem vs. t=0 (i.e. in Moriarty_SuppTable1)\n"
   ]
  },
  {
   "cell_type": "code",
   "execution_count": 6,
   "metadata": {},
   "outputs": [
    {
     "name": "stdout",
     "output_type": "stream",
     "text": [
      "Genes with top five highest ratio of expression at t=96 vs t=0:\n",
      "TFRC\n",
      "SPINK8\n",
      "DIRC1\n",
      "PLA1A\n",
      "RSPRY1\n"
     ]
    }
   ],
   "source": [
    "# First iterate through the dictionary to append the ratio of expression to the list in each value \n",
    "for gene in Moriarty_SuppTable1.keys():\n",
    "  Moriarty_SuppTable1[gene].append(Moriarty_SuppTable1[gene][4] / Moriarty_SuppTable1[gene][0])\n",
    "\n",
    "# Use the sorted() function again to output the five genes that have the higest ratio of expression\n",
    "top_five_ratio = sorted(Moriarty_SuppTable1.items(), key=lambda gene: gene[1][5],reverse=True)[0:5] \n",
    "\n",
    "print('Genes with top five highest ratio of expression at t=96 vs t=0:')\n",
    "for gene in top_five_ratio: # for loop to print the top five gene names with highest synth_rate\n",
    "    print(gene[0])\n",
    "   \n"
   ]
  },
  {
   "cell_type": "markdown",
   "metadata": {},
   "source": [
    "## 3. Figure out what happened\n",
    "### I observed that four out five genes that have the highest ratio of expression at t=96 hours post-mortem vs. t=0 are also within the top five genes that have the longest half life. Thus, it is likely that the results observed in the Moriarty experiment that a large number of genes differentially upregulated after the mouse dies is due to the fact that those genes have a slow synthesis rate and a long half life causing TPM to be still increasing hours after the mouse dies. Therefore, we can reject the author's hypothesis that there is an ancient program of cortical gene expression that causes the sand mouse's life to flash before its eyes until further evidence are provided."
   ]
  },
  {
   "cell_type": "code",
   "execution_count": 7,
   "metadata": {},
   "outputs": [],
   "source": [
    "gene_names_unique_to_Moriarty = Moriarty_SuppTable_gene_names.difference(Adler_SuppTable2_gene_names) # Getting gene names unqiue to Moriarty using set theory\n",
    "\n",
    "for gene in Moriarty_SuppTable1.keys():\n",
    "    \"\"\"\n",
    "    Loop through each gene name in Moriarty_SuppTable1. If gene name is not unqiue to Moriarty_SuppTable1, \n",
    "    then append the calculated ratios and synth_rate and halflife from Adler_SuppTable2.\n",
    "    \"\"\"\n",
    "    if gene not in gene_names_unique_to_Moriarty:\n",
    "        Moriarty_SuppTable1[gene].append(Moriarty_SuppTable1[gene][1] / Moriarty_SuppTable1[gene][0])\n",
    "        Moriarty_SuppTable1[gene].append(Moriarty_SuppTable1[gene][2] / Moriarty_SuppTable1[gene][0])\n",
    "        Moriarty_SuppTable1[gene].append(Moriarty_SuppTable1[gene][3] / Moriarty_SuppTable1[gene][0])\n",
    "        Moriarty_SuppTable1[gene].append(Moriarty_SuppTable1[gene][4] / Moriarty_SuppTable1[gene][0])\n",
    "        Moriarty_SuppTable1[gene].append(Adler_SuppTable2[gene][0])\n",
    "        Moriarty_SuppTable1[gene].append(Adler_SuppTable2[gene][1])\n"
   ]
  },
  {
   "cell_type": "code",
   "execution_count": 10,
   "metadata": {},
   "outputs": [],
   "source": [
    "output = open('merged_table.txt', 'w') # open the output file\n",
    "for key, value in Moriarty_SuppTable1.items():\n",
    "     \"\"\"\n",
    "     Iterate through each key value pair in the updated Moriarty_SuppTable1. \n",
    "     If the gene name is not unique to Moriarty_SuppTable1, then write the relevant numbers of\n",
    "     the list to the same white-space deliminated line. \n",
    "     \"\"\"\n",
    "     if key not in gene_names_unique_to_Moriarty:\n",
    "        output.write(\"{0:15s} {1:4.2f} {2:4.2f} {3:4.2f} {4:4.2f} {5:4.2f} {6:4.2f}\\n\".format(str(key), value[6],value[7],value[8],value[9],value[10],value[11]))  \n",
    "output.close()   "
   ]
  }
 ],
 "metadata": {
  "kernelspec": {
   "display_name": "Python 3 (ipykernel)",
   "language": "python",
   "name": "python3"
  },
  "language_info": {
   "codemirror_mode": {
    "name": "ipython",
    "version": 3
   },
   "file_extension": ".py",
   "mimetype": "text/x-python",
   "name": "python",
   "nbconvert_exporter": "python",
   "pygments_lexer": "ipython3",
   "version": "3.9.7"
  },
  "vscode": {
   "interpreter": {
    "hash": "cf03e3dae6cd90215c49561c10ab9ba5e35cdc7a8fe6139efc815ef068c0abf4"
   }
  }
 },
 "nbformat": 4,
 "nbformat_minor": 2
}
