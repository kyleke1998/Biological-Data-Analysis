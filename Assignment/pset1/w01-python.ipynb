{
 "cells": [
  {
   "cell_type": "markdown",
   "metadata": {
    "slideshow": {
     "slide_type": "skip"
    }
   },
   "source": [
    "# Python\n",
    "*Notes by Mary Richardson (2021)*\n",
    "\n",
    "If you're new to Python or coding as a whole, have no fear! Soon you'll be a pro. If you can get comfortable with everything in this notebook, you'll have all the tools you need to tackle the first pset. Let's start with the essentials. "
   ]
  },
  {
   "cell_type": "markdown",
   "metadata": {
    "slideshow": {
     "slide_type": "skip"
    }
   },
   "source": [
    "* [Variables and Output](#Variables-and-Output)\n",
    "    * [Comments](#Comments)\n",
    "    * [Typecasting](#Typecasting)\n",
    "    * [Print Statements](#Print-Statements)\n",
    "* [Types](#Data-Types)\n",
    "    * [Numbers](#Numbers)\n",
    "    * [Strings](#Strings)\n",
    "    * [Booleans](#Booleans)\n",
    "    * [Lists](#Lists)\n",
    "    * [Dictionaries](#Dictionaries)\n",
    "* [Control Flow](#Control-Flow)\n",
    "    * [Conditional Statements](#Conditional-Statements)\n",
    "    * [While Loops](#While-Loops)\n",
    "    * [For Loops](#For-Loops)\n",
    "* [File Handling](#File-Handling)\n",
    "    * [Writing](#Writing)\n",
    "    * [Reading](#Reading)\n",
    "* [Functions](#Functions)\n",
    "* [Get Coding!](#Get-Coding)\n",
    "    * [Troubleshooting](#Troubleshooting)"
   ]
  },
  {
   "cell_type": "markdown",
   "metadata": {
    "id": "HRg7iytjI4l2",
    "slideshow": {
     "slide_type": "slide"
    }
   },
   "source": [
    "## Variables and Output\n",
    "\n",
    "We can easily store a value as a variable in Python. To do this we use a single `=`, with the variable name always to the left, and the assigned variable always to the right. \n",
    "\n",
    "There are several important **data types and structures** for storing values in Python you should be familiar with:\n",
    "- **int**: integer number\n",
    "- **float**: decimal number\n",
    "- **str**: string/text\n",
    "- **bool**: boolean (true or false)\n",
    "- **list**: list of values\n",
    "- **dict**: dictionary of keys and associated variables"
   ]
  },
  {
   "cell_type": "code",
   "execution_count": 1,
   "metadata": {
    "id": "BPf-8FGGI4l3",
    "slideshow": {
     "slide_type": "slide"
    }
   },
   "outputs": [],
   "source": [
    "# Define an integer\n",
    "num_human_genes = 20000 # -ish\n",
    "answer_to_life = 42\n",
    "\n",
    "# Define a float\n",
    "e = 2.71828182845904523536028747135 # And so on ...\n",
    "my_shoe_size = 7.5\n",
    "\n",
    "# Define a string\n",
    "python_greeting = 'hello world'\n",
    "shine_dalgarno_consensus = \"AGGAGG\"\n",
    "\n",
    "# Define a boolean\n",
    "likes_dogs = True\n",
    "is_last_example = False\n",
    "\n",
    "# Define a list\n",
    "prime_nums = [19, 31, 7, 97, 11] # A random selection\n",
    "greek_alphabet = ['alpha', 'beta', 'gamma', 'delta']   # ...\n",
    "\n",
    "# Define a dictionary\n",
    "olympic_sports = {'swimming':True, 'fencing':True, 'hiking':False}\n",
    "sport_types = {'swimming': ['breast stroke', 'butterfly', 'freestyle'], \n",
    "               'fencing': ['foil', 'epee', 'sabre'],\n",
    "               'hiking': ['mountaineering', 'backpacking']}"
   ]
  },
  {
   "cell_type": "markdown",
   "metadata": {
    "id": "6TNvmQhl6ehm",
    "slideshow": {
     "slide_type": "slide"
    }
   },
   "source": [
    "#### Exercise 1.\n",
    "\n",
    "Define the following variables:\n",
    "- a made-up DNA sequence\n",
    "- the number of chromosomes your favorite animal has\n",
    "- a list of the courses you are taking\n",
    "- pi to as many digits as you know\n",
    "- the english and scientific name of three species (as one variable)"
   ]
  },
  {
   "cell_type": "markdown",
   "metadata": {
    "id": "T7yJj6BTI4l3",
    "slideshow": {
     "slide_type": "slide"
    }
   },
   "source": [
    "### Comments\n",
    "\n",
    "It's good practice to write comments to explain your code and make it more readable. Even if something seems incredibly obvious to you, comments will help make it clear to anyone else who tries to run your code... and to your future self!\n",
    "\n",
    "Everything to the right of a `#` symbol is ignored by the Python interpreter\n",
    "\n"
   ]
  },
  {
   "cell_type": "code",
   "execution_count": 2,
   "metadata": {
    "id": "K86kxVDEI4l4"
   },
   "outputs": [],
   "source": [
    "# You can use comments to write high-level descriptions of blocks of code\n",
    "\n",
    "x = 1 # And you can add comments to individual lines of code"
   ]
  },
  {
   "cell_type": "markdown",
   "metadata": {
    "id": "odWfZz0_I4l4",
    "slideshow": {
     "slide_type": "slide"
    }
   },
   "source": [
    "#### Exercise 2.\n",
    "\n",
    "Add comments to describe what you think is happening in the following block of code:"
   ]
  },
  {
   "cell_type": "code",
   "execution_count": 3,
   "metadata": {
    "id": "sMxtwMtsI4l4"
   },
   "outputs": [],
   "source": [
    "x = 1\n",
    "y = 2\n",
    "\n",
    "z = y\n",
    "y = x\n",
    "x = z"
   ]
  },
  {
   "cell_type": "markdown",
   "metadata": {
    "id": "zb23kVGpI4l5",
    "slideshow": {
     "slide_type": "slide"
    }
   },
   "source": [
    "### Typecasting\n",
    "\n",
    "Python uses domething called *soft typing*, which means it infers the type of each variable. We don't explicitly set the type of variables. But sometimes it infers incorrectly or we need to switch between types. \n",
    "\n",
    "We can check the type of a variable with the `type()` function. We can change the type by using the name of the new type as a function (e.g. `int()`, `float()`, `str()`)."
   ]
  },
  {
   "cell_type": "code",
   "execution_count": 4,
   "metadata": {
    "id": "1Gf0fAw4DqbT"
   },
   "outputs": [
    {
     "data": {
      "text/plain": [
       "str"
      ]
     },
     "execution_count": 4,
     "metadata": {},
     "output_type": "execute_result"
    }
   ],
   "source": [
    "x = '3.9'\n",
    "type(x) # type() checks the data type"
   ]
  },
  {
   "cell_type": "code",
   "execution_count": 5,
   "metadata": {
    "id": "ZVug3emkDrVs",
    "slideshow": {
     "slide_type": "slide"
    }
   },
   "outputs": [
    {
     "data": {
      "text/plain": [
       "3"
      ]
     },
     "execution_count": 5,
     "metadata": {},
     "output_type": "execute_result"
    }
   ],
   "source": [
    "# Other data types can also be converted, but be careful when you cast numbers!\n",
    "x = 3.9\n",
    "x_int = int(x) # int() casts the value to an int\n",
    "x_int"
   ]
  },
  {
   "cell_type": "code",
   "execution_count": 6,
   "metadata": {
    "colab": {
     "base_uri": "https://localhost:8080/"
    },
    "id": "LcrVg1rTI4l6",
    "outputId": "aa3ee9fa-4bc4-42cb-ad9b-f75dd4bf8785"
   },
   "outputs": [
    {
     "data": {
      "text/plain": [
       "True"
      ]
     },
     "execution_count": 6,
     "metadata": {},
     "output_type": "execute_result"
    }
   ],
   "source": [
    "# When casting to a boolean, any nonzero value will be True\n",
    "x = 3.9\n",
    "x_bool = bool(x)\n",
    "x_bool"
   ]
  },
  {
   "cell_type": "code",
   "execution_count": 7,
   "metadata": {
    "id": "ft0ZcOsBDrS6",
    "slideshow": {
     "slide_type": "-"
    }
   },
   "outputs": [
    {
     "data": {
      "text/plain": [
       "3.9"
      ]
     },
     "execution_count": 7,
     "metadata": {},
     "output_type": "execute_result"
    }
   ],
   "source": [
    "# A str value can't be used to do any math until it is converted into a number\n",
    "x = '3.9'\n",
    "x_float = float(x) # float() casts the value to a float\n",
    "x_float"
   ]
  },
  {
   "cell_type": "markdown",
   "metadata": {
    "id": "HXJnVyGuI4l7",
    "slideshow": {
     "slide_type": "slide"
    }
   },
   "source": [
    "#### Exercise 3.\n",
    "\n",
    "Print the type of ```x_float2``` and then cast the variable ```x_float2``` to an int."
   ]
  },
  {
   "cell_type": "code",
   "execution_count": 8,
   "metadata": {
    "id": "zF4oA-woI4l7",
    "slideshow": {
     "slide_type": "-"
    }
   },
   "outputs": [],
   "source": [
    "x_float2 = 4.6\n",
    "# Print the type of x_float2\n",
    "# FIXME!\n",
    "\n",
    "# Convert x_float2 to an integer\n",
    "# FIXME!"
   ]
  },
  {
   "cell_type": "markdown",
   "metadata": {
    "id": "XkSGijNlI4l7",
    "slideshow": {
     "slide_type": "slide"
    }
   },
   "source": [
    "### Print Statements\n",
    "\n",
    "Print statements are a useful way to display your results and also to check the values in your code when debugging. There are several ways to print values."
   ]
  },
  {
   "cell_type": "code",
   "execution_count": 9,
   "metadata": {
    "id": "aVWT4gusI4l7",
    "outputId": "aaf8649a-96c3-4ec8-804e-f8d4a930f7f8"
   },
   "outputs": [
    {
     "name": "stdout",
     "output_type": "stream",
     "text": [
      "hello world\n",
      "hello world\n",
      "hello world\n",
      "hello world\n"
     ]
    }
   ],
   "source": [
    "# To print strings, we have several equivalent options (pick your favorite!)\n",
    "x = \"hello\"\n",
    "y = \"world\"\n",
    "\n",
    "print(x + \" \" + y)\n",
    "\n",
    "print(\"%s %s\" % (x, y))        # Specify %s as a placeholder for a string value\n",
    "\n",
    "print(\"{} {}\".format(x, y))    # Alternatively use {} as a placeholder for a value\n",
    "\n",
    "print(f\"{x} {y}\")"
   ]
  },
  {
   "cell_type": "code",
   "execution_count": 10,
   "metadata": {
    "id": "snxNo-qII4l8",
    "outputId": "90795379-f867-4458-f2a3-9784ee2fd16d",
    "slideshow": {
     "slide_type": "slide"
    }
   },
   "outputs": [
    {
     "name": "stdout",
     "output_type": "stream",
     "text": [
      "MCB112\n",
      "MCB112\n",
      "MCB112\n"
     ]
    }
   ],
   "source": [
    "# To print numbers, we first have to convert them to strings or use one of the other print methods\n",
    "x = 'MCB'\n",
    "y = 112\n",
    "\n",
    "print(x + str(y))              # Manually cast the int to a string\n",
    "\n",
    "print(\"%s%i\" % (x, y))         # Specify %i as a placeholder for an int value, %f for float\n",
    "\n",
    "print(\"{}{}\".format(x, y))     # Automatically formats the value to a string"
   ]
  },
  {
   "cell_type": "code",
   "execution_count": 11,
   "metadata": {},
   "outputs": [
    {
     "name": "stdout",
     "output_type": "stream",
     "text": [
      "I'm taking MCB112!\n"
     ]
    }
   ],
   "source": [
    "print(f\"I'm taking {x}{str(y)}!\")"
   ]
  },
  {
   "cell_type": "code",
   "execution_count": 12,
   "metadata": {
    "id": "u-tA694aI4l8",
    "outputId": "08cf388e-dbd3-4368-f6c6-5b6e4a37c76a"
   },
   "outputs": [
    {
     "name": "stdout",
     "output_type": "stream",
     "text": [
      "apple 1\n",
      "1 apple\n",
      "\n",
      "apple      1\n",
      "banana     2.00\n"
     ]
    }
   ],
   "source": [
    "# To print whitespace delimited text, we can reserve a total width for each value\n",
    "print(\"{0} {1}\".format('apple', 1))\n",
    "print(\"{1} {0}\\n\".format('apple', 1))\n",
    "\n",
    "# {0:10s} means format variable 0 ('apple') as a 10-wide string\n",
    "print(\"{0:10s} {1}\".format('apple', 1))\n",
    "\n",
    "# {1:3.2f} means format variable 1 as a 3-wide, 2-digits-after-the-decimal, floating point number\n",
    "print(\"{0:10s} {1:3.2f}\".format('banana', 2))"
   ]
  },
  {
   "cell_type": "markdown",
   "metadata": {
    "id": "dzI-4YjqI4l8",
    "slideshow": {
     "slide_type": "slide"
    }
   },
   "source": [
    "#### Exercise 4.\n",
    "\n",
    "Print your course schedule for this semester in whitespace-delimited, column-justified format, one line per class with the course name, course number, and number of hours the class meets weekly:\n",
    "\n",
    "        Biological Data Analysis      MCB112      4.5\n",
    "        Mathematics in Biology        MCB111      4.5\n",
    "        Senior Thesis Research        MCB191      10              "
   ]
  },
  {
   "cell_type": "code",
   "execution_count": null,
   "metadata": {
    "id": "ay_H6qNEI4l9"
   },
   "outputs": [],
   "source": [
    "# Print your course schedule in whitespace-delimited, column-justified format\n",
    "# FIXME!"
   ]
  },
  {
   "cell_type": "markdown",
   "metadata": {
    "id": "I4jgiS2NI4l9",
    "slideshow": {
     "slide_type": "slide"
    }
   },
   "source": [
    "## Types\n",
    "\n",
    "Now let's get into some more details about the data types we'll be using and how to manipulate them."
   ]
  },
  {
   "cell_type": "markdown",
   "metadata": {
    "id": "cKXiCpm4I4l9"
   },
   "source": [
    "### Numbers\n",
    "\n",
    "Throughout your journey with Python, you'll make use of at least two types of numbers: floating points and integers. At this point, all you need to know is that a floating point number (or `float`) is a number with a decimal point (e.g. 12.34546789) and an integer (or `int`) is a number without a decimal point (i.e. 0, negative and non-negative whole numbers). \n",
    "\n",
    "Python supports standard arithmetic operations, follows the usual order of operations, and supports parentheses.\n",
    "\n",
    "Operator | Operation\n",
    "--- | ---\n",
    "`+` |\tadd\n",
    "`-` |\tsubtract\n",
    "`*` | multiply\n",
    "`/` | divide\n",
    "`%` | modulus\n",
    "`**` | exponentiate"
   ]
  },
  {
   "cell_type": "code",
   "execution_count": 13,
   "metadata": {
    "id": "7vQaLrSbCWoC",
    "slideshow": {
     "slide_type": "slide"
    }
   },
   "outputs": [],
   "source": [
    "x = 10 # int\n",
    "y = 1.23456789 # float"
   ]
  },
  {
   "cell_type": "code",
   "execution_count": 14,
   "metadata": {
    "id": "Z7XAlebgCTc_"
   },
   "outputs": [
    {
     "data": {
      "text/plain": [
       "11.23456789"
      ]
     },
     "execution_count": 14,
     "metadata": {},
     "output_type": "execute_result"
    }
   ],
   "source": [
    "x + y"
   ]
  },
  {
   "cell_type": "code",
   "execution_count": 15,
   "metadata": {
    "id": "GB8qCqmTCTqp"
   },
   "outputs": [
    {
     "data": {
      "text/plain": [
       "12.3456789"
      ]
     },
     "execution_count": 15,
     "metadata": {},
     "output_type": "execute_result"
    }
   ],
   "source": [
    "x * y"
   ]
  },
  {
   "cell_type": "code",
   "execution_count": 16,
   "metadata": {
    "id": "KWo1A8ivCQCK"
   },
   "outputs": [
    {
     "data": {
      "text/plain": [
       "112.3456789"
      ]
     },
     "execution_count": 16,
     "metadata": {},
     "output_type": "execute_result"
    }
   ],
   "source": [
    "# Specify order of operations with parentheses\n",
    "x * (x + y)"
   ]
  },
  {
   "cell_type": "code",
   "execution_count": 17,
   "metadata": {
    "id": "RXsRiOuUCRwh"
   },
   "outputs": [
    {
     "data": {
      "text/plain": [
       "0.12345688000000088"
      ]
     },
     "execution_count": 17,
     "metadata": {},
     "output_type": "execute_result"
    }
   ],
   "source": [
    "# Modulus (%) calculates the remainder\n",
    "x % y "
   ]
  },
  {
   "cell_type": "code",
   "execution_count": 18,
   "metadata": {
    "id": "g2qDKQ1HCdh7"
   },
   "outputs": [],
   "source": [
    "# To increment an int, you can use this shorthand\n",
    "x += 1 # Equivalent to x = x + 1"
   ]
  },
  {
   "cell_type": "markdown",
   "metadata": {
    "id": "PE1SvG4gI4l9",
    "slideshow": {
     "slide_type": "slide"
    }
   },
   "source": [
    "#### Exercise 5.\n",
    "\n",
    "Let's jump right in to something we'll see in lecture and the first pset this week. Imagine we have only two transcripts in a cell. Define the following variables: \n",
    "- $\\tau_1$ represents the relative abundance of transcript $1$ (out of all transcripts in a cell, what fraction are transcript $1$)\n",
    "- $\\tau_2$ represents the relative abundance of transcript $2$ (out of all transcripts in a cell, what fraction are transcript $2$, but note that $\\tau_1$ and $\\tau_2$ should sum to 1)\n",
    "- $\\ell_1$ represents the length of transcript $1$ (how many nucleotides are in transcript $1$)\n",
    "- $\\ell_2$ represents the length of transcript $1$ (how many nucleotides are in transcript $2$)\n",
    "\n",
    "Given these values, we want to find $\\nu_1$ which represents the nucleotide abundance of transcript $1$ (the transcript abundance weighted by length). Calculate $\\nu_1$ using this equation:\n",
    "\n",
    "$$\\nu_1 = \\dfrac{ \\tau_1 \\ell_1 }{ \\tau_1 \\ell_1 + \\tau_2 \\ell_2 }$$\n",
    "\n",
    "Or more generally:\n",
    "\n",
    "$$\\nu_i = \\dfrac{ \\tau_i \\ell_i }{ \\sum_j { \\tau_j \\ell_j } }$$"
   ]
  },
  {
   "cell_type": "code",
   "execution_count": null,
   "metadata": {
    "id": "7IQCI4lxI4l-",
    "outputId": "cca31f1d-8a79-4fe8-8b89-09554e3e6f1c",
    "slideshow": {
     "slide_type": "slide"
    }
   },
   "outputs": [],
   "source": [
    "# Set the transcript abundances and lengths\n",
    "tau1 = # FIXME!\n",
    "tau2 = # FIXME!\n",
    "l1 = # FIXME!\n",
    "l2 = # FIXME!\n",
    "\n",
    "# Calculate the nucleotide abundance\n",
    "nu1 = # FIXME!\n",
    "nu2 = # FIXME!"
   ]
  },
  {
   "cell_type": "markdown",
   "metadata": {
    "id": "rOxLxeDMI4l-",
    "slideshow": {
     "slide_type": "slide"
    }
   },
   "source": [
    "### Strings\n",
    "\n",
    "A string (or `str`) is the name for a variable that holds text, not numbers. In Python, strings are created by surrounding text with double or single quotes. Importantly, if you see a number in a string, that number cannot be used as a number until it is **typecast** (or converted) into a number.\n",
    "\n",
    "Python has many useful string operations.\n",
    "\n",
    "Operation | Result\n",
    "--- | :---: \n",
    "`+` | concatenate strings\n",
    "`*` | repeat the same string\n",
    "`x in s`| True if substring x is in s, else False\n",
    "`x not in s` | False substring x is in s, else True\n",
    "`s[i:j:k]`| slice of s from i to j with step k\n",
    "`len(s)`| length of s"
   ]
  },
  {
   "cell_type": "code",
   "execution_count": 19,
   "metadata": {
    "id": "Ex3IVf4HCjUe",
    "slideshow": {
     "slide_type": "slide"
    }
   },
   "outputs": [],
   "source": [
    "x = 'this'\n",
    "y = '9.2'\n",
    "z = \" is a string\""
   ]
  },
  {
   "cell_type": "code",
   "execution_count": 20,
   "metadata": {
    "id": "QCmk87bpCqr2"
   },
   "outputs": [
    {
     "data": {
      "text/plain": [
       "'this is a string'"
      ]
     },
     "execution_count": 20,
     "metadata": {},
     "output_type": "execute_result"
    }
   ],
   "source": [
    "# Append two strings\n",
    "x + z"
   ]
  },
  {
   "cell_type": "code",
   "execution_count": 21,
   "metadata": {
    "id": "ORBlF87GCqvF"
   },
   "outputs": [
    {
     "data": {
      "text/plain": [
       "4"
      ]
     },
     "execution_count": 21,
     "metadata": {},
     "output_type": "execute_result"
    }
   ],
   "source": [
    "# Count the number of characters in a string\n",
    "len(x)"
   ]
  },
  {
   "cell_type": "code",
   "execution_count": 22,
   "metadata": {
    "id": "x4V0E2kgCqyi"
   },
   "outputs": [
    {
     "data": {
      "text/plain": [
       "'h'"
      ]
     },
     "execution_count": 22,
     "metadata": {},
     "output_type": "execute_result"
    }
   ],
   "source": [
    "# To access an individual character, use its position in the string (starting from 0)\n",
    "x[1]"
   ]
  },
  {
   "cell_type": "code",
   "execution_count": 23,
   "metadata": {
    "id": "8pzk535PCq0l"
   },
   "outputs": [
    {
     "data": {
      "text/plain": [
       "'is'"
      ]
     },
     "execution_count": 23,
     "metadata": {},
     "output_type": "execute_result"
    }
   ],
   "source": [
    "# To access a range of characters, specify a slice range (starting from 0)\n",
    "z[1:3] # This range always includes the start index but excludes end index, i.e. [0,3)"
   ]
  },
  {
   "cell_type": "code",
   "execution_count": 24,
   "metadata": {
    "id": "ezg2AmAwCijp"
   },
   "outputs": [
    {
     "data": {
      "text/plain": [
       "['9', '2']"
      ]
     },
     "execution_count": 24,
     "metadata": {},
     "output_type": "execute_result"
    }
   ],
   "source": [
    "# To separate a string into a list of strings, use split\n",
    "# and specify the delimiter (separator)\n",
    "z.split()        # Default is to split on whitespace\n",
    "y.split('.')     # We can specify alternate delimiters"
   ]
  },
  {
   "cell_type": "markdown",
   "metadata": {
    "id": "IjwSXbncI4l_",
    "slideshow": {
     "slide_type": "slide"
    }
   },
   "source": [
    "#### Exercise 6.\n",
    "\n",
    "Print the value of $\\nu_1$ you just calculated in the following style (rounded to two decimals):\n",
    "\n",
    "        The nucleotide abundance of transcript 1 is 0.25.\n",
    "        \n",
    "Don't *hardcode* $\\nu_1$ (don't manually type in the value of $\\nu_1$). Instead use the variable nu1 in your print statement.\n",
    "\n",
    "        \n",
    "For a challenge, use the unicode characters for $\\nu$ and subscript $1$ (u'\\u03BD\\u2081') to print it this way: $\\nu_1$ is 0.25."
   ]
  },
  {
   "cell_type": "code",
   "execution_count": null,
   "metadata": {
    "id": "9lk94yRwI4l_",
    "outputId": "3a6de604-9f5d-403c-8ceb-d456dca20cfe"
   },
   "outputs": [],
   "source": [
    "# Print the value of nu1, using the variable nu1\n",
    "# FIXME!"
   ]
  },
  {
   "cell_type": "markdown",
   "metadata": {
    "id": "ubENffm4I4l_",
    "slideshow": {
     "slide_type": "slide"
    }
   },
   "source": [
    "### Booleans\n",
    "\n",
    "A boolean (or `bool`), named after [George Boole](https://en.wikipedia.org/wiki/George_Boole), is data type that can be either **True** or **False**. Booleans will become important for making comparisons and controlling the flow of your code.\n",
    "\n",
    "Python allows basic logic comparisons through a set of relational operators.\n",
    "\n",
    "Operator | Operation\n",
    "--- | ---\n",
    "`==` | equal\n",
    "`!=` | not equal\n",
    "`<` | less than\n",
    "`<=` | less than or equal to\n",
    "`>` | greater than\n",
    "`>=` | greater than or equal to\n",
    "\n",
    "**Note that `=` is used for assignment, while `==` is used to test for equality.**"
   ]
  },
  {
   "cell_type": "code",
   "execution_count": 25,
   "metadata": {
    "id": "H-i1p7pXDaUu",
    "slideshow": {
     "slide_type": "slide"
    }
   },
   "outputs": [
    {
     "data": {
      "text/plain": [
       "True"
      ]
     },
     "execution_count": 25,
     "metadata": {},
     "output_type": "execute_result"
    }
   ],
   "source": [
    "3 > 2"
   ]
  },
  {
   "cell_type": "code",
   "execution_count": 26,
   "metadata": {
    "id": "gyWbkI_QDagH"
   },
   "outputs": [
    {
     "data": {
      "text/plain": [
       "False"
      ]
     },
     "execution_count": 26,
     "metadata": {},
     "output_type": "execute_result"
    }
   ],
   "source": [
    "3 < 2"
   ]
  },
  {
   "cell_type": "code",
   "execution_count": 27,
   "metadata": {
    "id": "umHzzCVdDaiZ"
   },
   "outputs": [
    {
     "data": {
      "text/plain": [
       "True"
      ]
     },
     "execution_count": 27,
     "metadata": {},
     "output_type": "execute_result"
    }
   ],
   "source": [
    "x = 5\n",
    "y = 2+3\n",
    "x == y"
   ]
  },
  {
   "cell_type": "code",
   "execution_count": 28,
   "metadata": {
    "id": "qt3NRNn9Dak3"
   },
   "outputs": [
    {
     "data": {
      "text/plain": [
       "False"
      ]
     },
     "execution_count": 28,
     "metadata": {},
     "output_type": "execute_result"
    }
   ],
   "source": [
    "a = 'apple'\n",
    "b = 'banana'\n",
    "a == b"
   ]
  },
  {
   "cell_type": "markdown",
   "metadata": {
    "id": "uUiJflA0I4l_",
    "slideshow": {
     "slide_type": "slide"
    }
   },
   "source": [
    "#### Exercise 7.\n",
    "\n",
    "Determine whether $\\nu_1$ is larger than $\\nu_2$ and print the result using a print statement and style of your choice:"
   ]
  },
  {
   "cell_type": "code",
   "execution_count": null,
   "metadata": {
    "id": "f3WiOi7MI4mA"
   },
   "outputs": [],
   "source": [
    "# Print whether nu1 is larger than nu2\n",
    "# FIXME!"
   ]
  },
  {
   "cell_type": "markdown",
   "metadata": {
    "id": "9qV_wA4II4mA",
    "slideshow": {
     "slide_type": "slide"
    }
   },
   "source": [
    "### Lists\n",
    "\n",
    "A `list` is a convenient data structure for organizing variables. Lists group data of any type into a structure that can be sampled via **indexing**, where an item or items in a list are referred to by their position in the list.\n",
    "\n",
    "\n",
    "Python has a ton of useful built in functions for operating on lists.\n",
    "\n",
    "Operation | Result\n",
    "--- | :---: \n",
    "`x in s` | True if an item of s is equal to x, else False\n",
    "`x not in s` | False if an item of s is equal to x, else True\n",
    "`s[i:j:k]`| slice of s from i to j with step k\n",
    "`len(s)`| length of s\n",
    "`min(s)`| smallest item of s\n",
    "`max(s)`| largest item of s\n",
    "`sum(s)`| sum of the items in s\n",
    "`mean(s)`| mean value of the items in s\n",
    "`s.index(x)`| index of the first occurrence of x in s\n",
    "`s.count(x)`| total number of occurrences of x in s\n",
    "`sorted(s)`| for a list of numbers, returns a sorted list in ascending order\n",
    "`s.append(x)` | adds item x to list s\n",
    "\n",
    "Note that Python uses a 0-based counting system. This means that in a list, the initial index is set to 0, not 1. For exmample, let's say I have this list \\[5, 3, 2, 8, 10\\]. You might say that the first item in the list is five – the value at index 1 is five. In Python though, you would say that the value at index 0 is five and the value at index 1 is three.\n"
   ]
  },
  {
   "cell_type": "code",
   "execution_count": 29,
   "metadata": {
    "colab": {
     "base_uri": "https://localhost:8080/"
    },
    "id": "e_kEOOseHJSR",
    "outputId": "2425ac93-2a9d-4420-9af3-ad8179f6a588",
    "slideshow": {
     "slide_type": "slide"
    }
   },
   "outputs": [
    {
     "data": {
      "text/plain": [
       "[0, 1, 2, 3, 4, 5]"
      ]
     },
     "execution_count": 29,
     "metadata": {},
     "output_type": "execute_result"
    }
   ],
   "source": [
    "[0,1,2,3,4,5]"
   ]
  },
  {
   "cell_type": "code",
   "execution_count": 30,
   "metadata": {
    "id": "sgM05ir8HKl_"
   },
   "outputs": [
    {
     "data": {
      "text/plain": [
       "['apple', 'banana', 'orange']"
      ]
     },
     "execution_count": 30,
     "metadata": {},
     "output_type": "execute_result"
    }
   ],
   "source": [
    "['apple','banana','orange']"
   ]
  },
  {
   "cell_type": "code",
   "execution_count": 31,
   "metadata": {
    "id": "wsHePEPiHKoY"
   },
   "outputs": [
    {
     "data": {
      "text/plain": [
       "2"
      ]
     },
     "execution_count": 31,
     "metadata": {},
     "output_type": "execute_result"
    }
   ],
   "source": [
    "a = [0,1,2,3,4,5]\n",
    "a[2]"
   ]
  },
  {
   "cell_type": "code",
   "execution_count": 32,
   "metadata": {
    "id": "v3TQKaJ9HKq8"
   },
   "outputs": [
    {
     "data": {
      "text/plain": [
       "'apple'"
      ]
     },
     "execution_count": 32,
     "metadata": {},
     "output_type": "execute_result"
    }
   ],
   "source": [
    "a = ['apple','banana','orange']\n",
    "a[0]"
   ]
  },
  {
   "cell_type": "code",
   "execution_count": 33,
   "metadata": {
    "id": "O7BRd6R-HKtu"
   },
   "outputs": [
    {
     "data": {
      "text/plain": [
       "'orange'"
      ]
     },
     "execution_count": 33,
     "metadata": {},
     "output_type": "execute_result"
    }
   ],
   "source": [
    "a = ['apple','banana','orange']\n",
    "a[-1]"
   ]
  },
  {
   "cell_type": "code",
   "execution_count": 34,
   "metadata": {
    "id": "U55FlxulHQSw",
    "slideshow": {
     "slide_type": "slide"
    }
   },
   "outputs": [
    {
     "data": {
      "text/plain": [
       "[2, 3, 4, 5]"
      ]
     },
     "execution_count": 34,
     "metadata": {},
     "output_type": "execute_result"
    }
   ],
   "source": [
    "a = [0,1,2,3,4,5]\n",
    "a[2:]"
   ]
  },
  {
   "cell_type": "code",
   "execution_count": 35,
   "metadata": {
    "id": "8lDCxszVHQcB"
   },
   "outputs": [
    {
     "data": {
      "text/plain": [
       "[0, 1, 2]"
      ]
     },
     "execution_count": 35,
     "metadata": {},
     "output_type": "execute_result"
    }
   ],
   "source": [
    "a = [0,1,2,3,4,5]\n",
    "a[:3]"
   ]
  },
  {
   "cell_type": "code",
   "execution_count": 36,
   "metadata": {
    "id": "meoVH0qTHQfF"
   },
   "outputs": [
    {
     "data": {
      "text/plain": [
       "[1, 2]"
      ]
     },
     "execution_count": 36,
     "metadata": {},
     "output_type": "execute_result"
    }
   ],
   "source": [
    "a = [0,1,2,3,4,5]\n",
    "a[1:3]"
   ]
  },
  {
   "cell_type": "code",
   "execution_count": 37,
   "metadata": {
    "id": "VlmPs9I4HVPW"
   },
   "outputs": [],
   "source": [
    "# We can mix data types in lists, and even have lists within lists!\n",
    "a = [['apple',5], ['banana',3],['orange',7]]"
   ]
  },
  {
   "cell_type": "markdown",
   "metadata": {
    "id": "ph_bN_mHI4mA",
    "slideshow": {
     "slide_type": "slide"
    }
   },
   "source": [
    "#### Exercise 8.\n",
    "\n",
    "Print the first and fourth genes in the list below:"
   ]
  },
  {
   "cell_type": "code",
   "execution_count": 38,
   "metadata": {
    "id": "YJ6d2mj7I4mB",
    "outputId": "b6dedbb8-f091-4d7f-e496-4493ebad29cc"
   },
   "outputs": [],
   "source": [
    "# Make a list of drosophila genes (yes, these are real)\n",
    "gene_list = ['r2d2', 'hedgehog', 'spock', 'ken and barbie', 'tinman']\n",
    "\n",
    "# Display the first gene in the list\n",
    "# FIXME!\n",
    "\n",
    "# Display the fourth gene in the list\n",
    "# FIXME!"
   ]
  },
  {
   "cell_type": "markdown",
   "metadata": {
    "id": "j_7CBYZZI4mB",
    "slideshow": {
     "slide_type": "slide"
    }
   },
   "source": [
    "#### Exercise 9.\n",
    "\n",
    "Imagine that we have 3 transcripts in a cell now. Define the following variables:\n",
    "- a list of $\\tau_i$ values for the 3 transcripts (remember that they should all sum to 1) \n",
    "- a list of $\\ell_i$ values for the 3 transcripts\n",
    "\n",
    "Given these values, we want to find $\\nu_i$. Calculate $\\nu_1$ using your lists and the same equation as before:\n",
    "\n",
    "$$\\nu_i = \\dfrac{ \\tau_i \\ell_i }{ \\sum_j { \\tau_j \\ell_j } }$$"
   ]
  },
  {
   "cell_type": "code",
   "execution_count": null,
   "metadata": {
    "id": "Fx6InSGLI4mB"
   },
   "outputs": [],
   "source": [
    "# Set the transcript abundances and lengths\n",
    "taus = # FIXME!\n",
    "ls = # FIXME!\n",
    "\n",
    "# Calculate the nucleotide abundance\n",
    "nu1 = # FIXME!"
   ]
  },
  {
   "cell_type": "markdown",
   "metadata": {
    "id": "WZ7ImawlI4mB",
    "slideshow": {
     "slide_type": "slide"
    }
   },
   "source": [
    "### Dictionaries\n",
    "\n",
    "A dictionary (or `dict`) is a special data structure that allows you to associate **values** with a specific **keys**. The data structure takes its name from a dictionary, because a word dictionary is organized similarly: take a word, look it up in the dictionary, see some associated description. In a Python dict, you take a word (the key), look it up in the dict, and see some list of numbers or strings associated with that word (the values).\n",
    "\n",
    "\n",
    "Python has several additional useful functions for dicts.\n",
    "\n",
    "Operation | Result\n",
    "--- | :---:\n",
    "`s.clear()` | erases the dict\n",
    "`s.values()` | returns a list with all the assigned values in the dictionary\n",
    "`s.keys()` | returns a list with all the keys in the dictionary\n",
    "`s.items()` | returns a list containing of (key, value) for each key in the dictionary"
   ]
  },
  {
   "cell_type": "code",
   "execution_count": 39,
   "metadata": {
    "id": "TlRWnohtHelF",
    "slideshow": {
     "slide_type": "-"
    }
   },
   "outputs": [
    {
     "data": {
      "text/plain": [
       "{'apple': 'red', 'banana': 'yellow', 'orange': 'orange'}"
      ]
     },
     "execution_count": 39,
     "metadata": {},
     "output_type": "execute_result"
    }
   ],
   "source": [
    "{'apple': 'red','banana': 'yellow','orange': 'orange'}"
   ]
  },
  {
   "cell_type": "code",
   "execution_count": 40,
   "metadata": {
    "id": "aJtAYwXXHfK4"
   },
   "outputs": [
    {
     "data": {
      "text/plain": [
       "{'apple': 5, 'banana': 3, 'orange': 7}"
      ]
     },
     "execution_count": 40,
     "metadata": {},
     "output_type": "execute_result"
    }
   ],
   "source": [
    "{'apple': 5,'banana': 3,'orange': 7}"
   ]
  },
  {
   "cell_type": "code",
   "execution_count": 41,
   "metadata": {
    "id": "d1TdJU-EHfTL",
    "slideshow": {
     "slide_type": "slide"
    }
   },
   "outputs": [
    {
     "name": "stdout",
     "output_type": "stream",
     "text": [
      "An empty dictionary will return: {}\n",
      "A filled dictionary will return: {'apple': 5, 'banana': 3, 'orange': 7}\n"
     ]
    }
   ],
   "source": [
    "#Filling an empty dictionary\n",
    "\n",
    "a = {}\n",
    "print('An empty dictionary will return:',a) #print the empty dictionary. Printing strings + variables together is explained below.\n",
    "\n",
    "#Values can be added to the dictionary in the form a[Key] = Value\n",
    "a['apple'] = 5\n",
    "a['banana'] = 3\n",
    "a['orange'] = 7\n",
    "print('A filled dictionary will return:',a)"
   ]
  },
  {
   "cell_type": "code",
   "execution_count": 42,
   "metadata": {
    "id": "dRo5iS1wHfVy"
   },
   "outputs": [
    {
     "data": {
      "text/plain": [
       "3"
      ]
     },
     "execution_count": 42,
     "metadata": {},
     "output_type": "execute_result"
    }
   ],
   "source": [
    "a = {'apple': 5,'banana': 3,'orange': 7}\n",
    "a['banana']"
   ]
  },
  {
   "cell_type": "code",
   "execution_count": 43,
   "metadata": {
    "id": "1jrgwa_XHjZb"
   },
   "outputs": [
    {
     "data": {
      "text/plain": [
       "dict_keys(['apple', 'banana', 'orange'])"
      ]
     },
     "execution_count": 43,
     "metadata": {},
     "output_type": "execute_result"
    }
   ],
   "source": [
    "# Get just the keys of the dict\n",
    "a.keys()"
   ]
  },
  {
   "cell_type": "code",
   "execution_count": 44,
   "metadata": {
    "id": "jPU6PFXAHjii"
   },
   "outputs": [
    {
     "data": {
      "text/plain": [
       "dict_values([5, 3, 7])"
      ]
     },
     "execution_count": 44,
     "metadata": {},
     "output_type": "execute_result"
    }
   ],
   "source": [
    "# Get just the values of the dict\n",
    "a.values()"
   ]
  },
  {
   "cell_type": "code",
   "execution_count": 45,
   "metadata": {
    "id": "QJWVgW_fHmSA"
   },
   "outputs": [
    {
     "data": {
      "text/plain": [
       "dict_items([('apple', 5), ('banana', 3), ('orange', 7)])"
      ]
     },
     "execution_count": 45,
     "metadata": {},
     "output_type": "execute_result"
    }
   ],
   "source": [
    "# Get the key, value pairs of the dict\n",
    "a.items()"
   ]
  },
  {
   "cell_type": "markdown",
   "metadata": {
    "id": "KGaNe9EyI4mC",
    "slideshow": {
     "slide_type": "slide"
    }
   },
   "source": [
    "#### Exercise 10.\n",
    "\n",
    "Print the first Drosophila melanogaster gene and your favorite gene in the dictionary using the following formats:\n",
    "\n",
    "        The first Drosophila melanogaster gene is r2d2.\n",
    "        My favorite gene is time for coffee.\n",
    "        \n",
    "Avoid hardcoding any of the keys or values."
   ]
  },
  {
   "cell_type": "code",
   "execution_count": 46,
   "metadata": {
    "id": "slu6sv_SI4mC"
   },
   "outputs": [],
   "source": [
    "# Make a list of genes (yes, these are all still real)\n",
    "gene_dict = {'Drosophila melanogaster':['r2d2', 'hedgehog', 'ken and barbie', 'tinman'],\n",
    "             'Arabidopsis thaliana':['superman', 'time for coffee', 'yoda'],\n",
    "             'Danio rerio':['spock', 'casanova', 'chardonnay']}\n",
    "\n",
    "# Display the first gene for Drosophila melanogaster\n",
    "# FIXME!\n",
    "\n",
    "# Display your favorite gene in the dictionary\n",
    "# FIXME!"
   ]
  },
  {
   "cell_type": "markdown",
   "metadata": {
    "id": "8ifQe1U1I4mC",
    "slideshow": {
     "slide_type": "slide"
    }
   },
   "source": [
    "#### Exercise 11.\n",
    "\n",
    "Imagine that we have the same 3 transcripts in a cell as before, but now they have names. Choose names for the genes and Define the following variables:\n",
    "- a dictionary mapping gene name to $\\tau_i$ values for the 3 transcripts (key should be the name of gene $i$, value should be $\\tau_i$)\n",
    "- a dictionary mapping gene name to $\\ell_i$ values for the 3 transcripts (key should be the name of gene $i$, value should be $\\ell_i$)\n",
    "\n",
    "Given these values, we want to find $\\nu_i$ again. Calculate $\\nu_i$ for the gene of your choice using your dictionaries and the usual equation:\n",
    "\n",
    "$$\\nu_i = \\dfrac{ \\tau_i \\ell_i }{ \\sum_j { \\tau_j \\ell_j } }$$"
   ]
  },
  {
   "cell_type": "code",
   "execution_count": null,
   "metadata": {
    "id": "cO07qZ1QI4mC"
   },
   "outputs": [],
   "source": [
    "# Set the transcript abundances and lengths\n",
    "taus = # FIXME!\n",
    "ls = # FIXME!\n",
    "\n",
    "# Calculate the nucleotide abundance\n",
    "nu1 = # FIXME!"
   ]
  },
  {
   "cell_type": "markdown",
   "metadata": {
    "id": "J2QDR7224-y1",
    "slideshow": {
     "slide_type": "slide"
    }
   },
   "source": [
    "## Control Flow\n",
    "Now that you've got a handle on variables, we're ready to learn how to connect individual lines of code. So far we've just run Python commands sequentially – every line runs, one after another, from top to bottom. But sometimes we need to skip chunks of code under certain conditions, or run different chunks of code depending on some condition. And sometimes we want to run the same chunk of code multiple times. There are several important ways to accomplish this."
   ]
  },
  {
   "cell_type": "markdown",
   "metadata": {
    "id": "zjT_z5q-5jil"
   },
   "source": [
    "### Conditional Statements\n",
    "\n",
    "Conditional statements allow you to write code that only runs when certain conditions are met. The most common conditional structures are `if`, `elif` (else if), and `else` statements. \n",
    "\n",
    "An `if` statement can have as many `elif` statements as you want. Each `if`/`elif` statement is evaluated in sequence, and only the code for the first condition that evaluates to True is run. Then Python jumps to the end of the conditional statement, and continues through your script line by line as usual.\n",
    "\n",
    "We can use `else` to specify what to do if *none* of the `if` or `elif` statements evaluate to True. An `if` statement can only have one `else` statement, and it must come last."
   ]
  },
  {
   "cell_type": "code",
   "execution_count": 47,
   "metadata": {
    "colab": {
     "base_uri": "https://localhost:8080/"
    },
    "id": "9oOxRxuc5pEv",
    "outputId": "a6e1da78-4590-492b-f48a-cd5cb66ea1fd",
    "slideshow": {
     "slide_type": "slide"
    }
   },
   "outputs": [
    {
     "name": "stdout",
     "output_type": "stream",
     "text": [
      "x is greater than 3\n"
     ]
    }
   ],
   "source": [
    "x = 5\n",
    "\n",
    "if x > 3:\n",
    "    print('x is greater than 3')"
   ]
  },
  {
   "cell_type": "code",
   "execution_count": 48,
   "metadata": {
    "colab": {
     "base_uri": "https://localhost:8080/"
    },
    "id": "rX5WBZPw5sWn",
    "outputId": "fd669049-7e90-48aa-abdb-608c01d3ddab"
   },
   "outputs": [
    {
     "name": "stdout",
     "output_type": "stream",
     "text": [
      "y is greater than x\n"
     ]
    }
   ],
   "source": [
    "x = 4\n",
    "y = 5\n",
    "\n",
    "if x > y:\n",
    "    print('x is greater than y')\n",
    "elif x < y:\n",
    "    print('y is greater than x')\n",
    "else:\n",
    "    print('x and y are equal')"
   ]
  },
  {
   "cell_type": "code",
   "execution_count": 49,
   "metadata": {
    "colab": {
     "base_uri": "https://localhost:8080/"
    },
    "id": "4BSj_kxr5t1j",
    "outputId": "a735b86f-575b-4329-c25e-a9e1554eb118"
   },
   "outputs": [
    {
     "name": "stdout",
     "output_type": "stream",
     "text": [
      "there aren't any carrots\n"
     ]
    }
   ],
   "source": [
    "fruit_dict = {'apple': 5,'banana': 3,'orange': 7}\n",
    "fruit = 'carrot'\n",
    "\n",
    "if fruit in fruit_dict.keys():\n",
    "    print('there are {} {}s'.format(fruit_dict[fruit], fruit))\n",
    "else:\n",
    "    print('there aren\\'t any {}s'.format(fruit))"
   ]
  },
  {
   "cell_type": "markdown",
   "metadata": {
    "id": "EmOH2m4s5xZr",
    "slideshow": {
     "slide_type": "slide"
    }
   },
   "source": [
    "Moving forward, note that Python is sensitive to indentation. The indentation level of your code tells python something about how to run it. I find the easiest way to ensure correct indentation is to use <kbd>tab</kbd> (rather than spaces) to indent your code at each level or <kbd>shift</kbd> + <kbd>tab</kbd> to unindent your code so that the indentation levels stay consistent.\n",
    "\n",
    "Other formatting conventions, such as adding ':' at the end of a conditional statement, are also necessary."
   ]
  },
  {
   "cell_type": "code",
   "execution_count": 51,
   "metadata": {
    "id": "OA-Ghwba5yFg"
   },
   "outputs": [
    {
     "ename": "IndentationError",
     "evalue": "unindent does not match any outer indentation level (<tokenize>, line 3)",
     "output_type": "error",
     "traceback": [
      "\u001b[0;36m  File \u001b[0;32m\"<tokenize>\"\u001b[0;36m, line \u001b[0;32m3\u001b[0m\n\u001b[0;31m    print('incorrect')\u001b[0m\n\u001b[0m    ^\u001b[0m\n\u001b[0;31mIndentationError\u001b[0m\u001b[0;31m:\u001b[0m unindent does not match any outer indentation level\n"
     ]
    }
   ],
   "source": [
    "if True:\n",
    "    print('correct')\n",
    "  print('incorrect')"
   ]
  },
  {
   "cell_type": "markdown",
   "metadata": {
    "id": "9FNBjzmC55RZ"
   },
   "source": [
    "#### Exercise 12.\n",
    "\n",
    "Calculate x/y below. If y is zero, print an error message:\n",
    "    \n",
    "        Error: Division by zero!\n",
    "\n"
   ]
  },
  {
   "cell_type": "code",
   "execution_count": 52,
   "metadata": {
    "id": "ZQs-A6065vdQ"
   },
   "outputs": [],
   "source": [
    "# Define x and y\n",
    "x = 4\n",
    "y = 0 # Try changing the value of y to test your method\n",
    "\n",
    "# FIXME!"
   ]
  },
  {
   "cell_type": "markdown",
   "metadata": {
    "id": "cUDiSDtxQrI5",
    "slideshow": {
     "slide_type": "slide"
    }
   },
   "source": [
    "#### Exercise 13.\n",
    "\n",
    "Print the transcript with the maximum $\\nu$ value from Exercise 11 above:"
   ]
  },
  {
   "cell_type": "code",
   "execution_count": null,
   "metadata": {
    "id": "M79dcbflQkdp"
   },
   "outputs": [],
   "source": [
    "# Set the maximum nu value to the minimum possible value to start\n",
    "max_nu = #FIXME!\n",
    "\n",
    "# FIXME!"
   ]
  },
  {
   "cell_type": "markdown",
   "metadata": {
    "id": "o82qkVtE596B",
    "slideshow": {
     "slide_type": "slide"
    }
   },
   "source": [
    "### While Loops\n",
    "\n",
    "Often in this course you will want to run code over and over until some condition is met. Loops allow you to perform a task repeatedly with **iteration**, meaning after each task repetition, something changes. In a `while` loop, the loop runs until the specified condition is true."
   ]
  },
  {
   "cell_type": "code",
   "execution_count": 53,
   "metadata": {
    "id": "yVS_ZTGh5-rU"
   },
   "outputs": [
    {
     "name": "stdout",
     "output_type": "stream",
     "text": [
      "0\n",
      "1\n",
      "2\n",
      "3\n",
      "4\n"
     ]
    }
   ],
   "source": [
    "i = 0                    # Remember to initialize i\n",
    "\n",
    "while i < 5:             # Continue as long as i < 5\n",
    "    print(i)\n",
    "    i += 1               # This is a shortcut way to say i = i + 1"
   ]
  },
  {
   "cell_type": "markdown",
   "metadata": {
    "id": "hfnfOw6a_0W2"
   },
   "source": [
    "It's easy to make while loops that run forever (an infinite loop). For example if we forgot to increment our variable i above, the loop would never stop. This is something to watch out for.\n",
    "\n",
    "We can also use `break` statements to end while loops when a condition is met."
   ]
  },
  {
   "cell_type": "code",
   "execution_count": 54,
   "metadata": {
    "colab": {
     "base_uri": "https://localhost:8080/"
    },
    "id": "aMDhQXBK_095",
    "outputId": "94799cef-b3ff-4ddd-c41e-b81e75396ade"
   },
   "outputs": [
    {
     "name": "stdout",
     "output_type": "stream",
     "text": [
      "0\n",
      "1\n",
      "2\n"
     ]
    }
   ],
   "source": [
    "i = 0                    # Remember to initialize i\n",
    "\n",
    "while i < 5:             # Continue as long as i < 5\n",
    "    print(i)\n",
    "    if i==2:\n",
    "        break            # Exit the loop when i = 2\n",
    "    i += 1               # Increment i"
   ]
  },
  {
   "cell_type": "markdown",
   "metadata": {
    "id": "IMwacUJSRVFu",
    "slideshow": {
     "slide_type": "slide"
    }
   },
   "source": [
    "#### Exercise 14.\n",
    "\n",
    "Add a polyA tail 20 nucleotides long to the following transcript:"
   ]
  },
  {
   "cell_type": "code",
   "execution_count": null,
   "metadata": {
    "id": "XLRkJnAGRVab"
   },
   "outputs": [],
   "source": [
    "# Define an mRNA transcript sequence\n",
    "mrna = 'ACACUAUGGCAGCAUAUGUAGCGCCAUAAGUUAGCGUAGCGUGA'\n",
    "\n",
    "# Define the polyA tail length\n",
    "polyA_len = # FIXME!\n",
    "\n",
    "# Append the polyA tail\n",
    "# FIXME!"
   ]
  },
  {
   "cell_type": "markdown",
   "metadata": {
    "id": "AVZby0aS_3Pm",
    "slideshow": {
     "slide_type": "slide"
    }
   },
   "source": [
    "### For Loops\n",
    "\n",
    "Instead of iterating until a condition is met, you might want to iterate through a set list of values. In a `for` loop, the loop addresses each item in a group, in sequence, until the last item in the group. We can iterate through an existing list or we can use the `range` function to specify numeric values."
   ]
  },
  {
   "cell_type": "code",
   "execution_count": 55,
   "metadata": {
    "id": "z_l6bDqc_-_U"
   },
   "outputs": [
    {
     "name": "stdout",
     "output_type": "stream",
     "text": [
      "apple\n",
      "banana\n",
      "orange\n"
     ]
    }
   ],
   "source": [
    "fruit_list = ['apple', 'banana', 'orange']\n",
    "\n",
    "for fruit in fruit_list:       # For each item in the list\n",
    "    print(fruit)"
   ]
  },
  {
   "cell_type": "code",
   "execution_count": 56,
   "metadata": {
    "id": "S8Ga6Z7f_6L7"
   },
   "outputs": [
    {
     "name": "stdout",
     "output_type": "stream",
     "text": [
      "range(5):\n",
      "0\n",
      "1\n",
      "2\n",
      "3\n",
      "4\n",
      "range(2,5):\n",
      "2\n",
      "3\n",
      "4\n",
      "range(2,11,2):\n",
      "2\n",
      "4\n",
      "6\n",
      "8\n",
      "10\n"
     ]
    }
   ],
   "source": [
    "print('range(5):')\n",
    "for i in range(5):       # From 0 to 4\n",
    "    print(i)\n",
    "\n",
    "print('range(2,5):')\n",
    "for j in range(2,5):     # From 2 to 4\n",
    "    print(j)\n",
    "\n",
    "print('range(2,11,2):')\n",
    "for k in range(2,11,2):  # From 2 to 10 in steps of 2\n",
    "    print(k)"
   ]
  },
  {
   "cell_type": "markdown",
   "metadata": {
    "id": "grphK-3eR75G",
    "slideshow": {
     "slide_type": "slide"
    }
   },
   "source": [
    "#### Exercise 15.\n",
    "\n",
    "Iterate through the list of genes below and print the following for each gene:\n",
    "\n",
    "        Gene 1 is r2d2\n",
    "        ...\n",
    "        Gene 5 is tinman\n",
    "\n"
   ]
  },
  {
   "cell_type": "code",
   "execution_count": 57,
   "metadata": {
    "id": "8R7mK6LGR8HR"
   },
   "outputs": [],
   "source": [
    "# Make a list of drosophila genes\n",
    "gene_list = ['r2d2', 'hedgehog', 'spock', 'ken and barbie', 'tinman']"
   ]
  },
  {
   "cell_type": "markdown",
   "metadata": {
    "id": "amkW-8MMR8P1",
    "slideshow": {
     "slide_type": "slide"
    }
   },
   "source": [
    "#### Exercise 16.\n",
    "\n",
    "Think back to the nucleotide abundance equation. Imagine that we have 10 transcripts now. Define the following:\n",
    "- a list of $\\tau_i$ values for the 10 transcripts\n",
    "- a list of $\\ell_i$ values for the 10 transcripts\n",
    "\n",
    "Given these values, use a for loop to find $\\nu_i$ for each transcript:\n",
    "\n",
    "$$\\nu_i = \\dfrac{ \\tau_i \\ell_i }{ \\sum_j { \\tau_j \\ell_j } }$$\n",
    "\n",
    "\n",
    "\n"
   ]
  },
  {
   "cell_type": "code",
   "execution_count": null,
   "metadata": {
    "id": "KdGHO2jkTHq8"
   },
   "outputs": [],
   "source": [
    "# Set the transcript abundances and lengths\n",
    "taus = # FIXME!\n",
    "ls = # FIXME!\n",
    "\n",
    "# Calculate the nucleotide abundances\n",
    "nus = # FIXME!"
   ]
  },
  {
   "cell_type": "markdown",
   "metadata": {
    "id": "sglBU_A0TMZ_",
    "slideshow": {
     "slide_type": "slide"
    }
   },
   "source": [
    "#### Exercise 17.\n",
    "\n",
    "Repeat the previous exercise, but now define and use the following dictionaries instead of lists: \n",
    "- a dictionary mapping gene name to $\\tau_i$ values for the 10 transcripts (key should be the name of gene $i$, value should be $\\tau_i$)\n",
    "- a dictionary mapping gene name to $\\ell_i$ values for the 10 transcripts (key should be the name of gene $i$, value should be $\\ell_i$)"
   ]
  },
  {
   "cell_type": "code",
   "execution_count": null,
   "metadata": {
    "id": "zGknXk3_R8Y4"
   },
   "outputs": [],
   "source": [
    "# Set the transcript abundances and lengths\n",
    "taus = # FIXME!\n",
    "ls = # FIXME!\n",
    "\n",
    "# Calculate the nucleotide abundances\n",
    "nus = # FIXME!"
   ]
  },
  {
   "cell_type": "markdown",
   "metadata": {
    "id": "SxhfFmBNXpL1",
    "slideshow": {
     "slide_type": "slide"
    }
   },
   "source": [
    "## File Handling\n",
    "\n",
    "Frequently, we will need to read in data from a file or write results to a file. To access a file, we first need to open it. It's good practice when you open a file to specify what type of access you will need: read (`r`), write (`w`), or append (`a`) are common modes. Use read if you only need to read from the file and don't want to edit it, write if you want to write (or overwrite) to the file, or append if you want to add to an existing file."
   ]
  },
  {
   "cell_type": "markdown",
   "metadata": {
    "id": "bbtpX5U-XvKe"
   },
   "source": [
    "### Writing"
   ]
  },
  {
   "cell_type": "code",
   "execution_count": null,
   "metadata": {},
   "outputs": [],
   "source": [
    "# Write to a file\n",
    "data = ['header',\n",
    "        'line 1',\n",
    "        'line 2',\n",
    "        'line 3']\n",
    "\n",
    "with open('test.txt', 'w') as outfile:     # Open a file named 'test.txt' for writing ('w')\n",
    "    for line in data:                      # For each item in the list data\n",
    "        outfile.write(line + '\\n')         # Write the item to the file with a newline character in between (\\n)"
   ]
  },
  {
   "cell_type": "markdown",
   "metadata": {
    "slideshow": {
     "slide_type": "slide"
    }
   },
   "source": [
    "#### Exercise 18.\n",
    "\n",
    "Create a file called `my_abundances.txt` that contains the nucleotide abundance values from your dictionary in the following format:\n",
    "\n",
    "        gene       nu\n",
    "        a          0.10\n",
    "        b          0.22\n",
    "        c          0.07\n",
    "        \n",
    "Don't hardcode the gene name or $\\nu$ values – loop through your dictionary instead."
   ]
  },
  {
   "cell_type": "code",
   "execution_count": null,
   "metadata": {},
   "outputs": [],
   "source": [
    "# Set the file name\n",
    "filename = 'my_abundances.txt'\n",
    "\n",
    "#FIXME!"
   ]
  },
  {
   "cell_type": "markdown",
   "metadata": {
    "id": "9PDeBdwTXu_u",
    "slideshow": {
     "slide_type": "slide"
    }
   },
   "source": [
    "### Reading"
   ]
  },
  {
   "cell_type": "code",
   "execution_count": null,
   "metadata": {},
   "outputs": [],
   "source": [
    "# Read from a file\n",
    "with open('test.txt', 'r') as infile:      # Open a file named 'test.txt' for reading ('r')\n",
    "    next(infile)                           # Skip the first line (header line, for example)\n",
    "    for line in infile:                    # Iterate through each remaining line in the file\n",
    "        print(line.strip())                # Print the line stripped of the trailing newline character (.strip())"
   ]
  },
  {
   "cell_type": "markdown",
   "metadata": {},
   "source": [
    "#### Exercise 19.\n",
    "\n",
    "Read in the nucleotide abundances you just wrote and save them to a new dictionary. Check that the old dictionary and new dictionary are identical by printing both."
   ]
  },
  {
   "cell_type": "code",
   "execution_count": null,
   "metadata": {},
   "outputs": [],
   "source": [
    "# Set the file name\n",
    "filename = 'my_abundances.txt'\n",
    "\n",
    "#FIXME!"
   ]
  },
  {
   "cell_type": "markdown",
   "metadata": {
    "id": "-Mydjf1shf4c",
    "slideshow": {
     "slide_type": "slide"
    }
   },
   "source": [
    "## Functions\n",
    "\n",
    "Functions allow us to define routines that we will need to run repeatedly. Functions take some inputs (**arguments**) and **return** some outputs. In programming lingo, functions are **called** when you use them, and functions are **passed** arguments:\n",
    "\n",
    "`return1, return2 = function(argument1, argument2)`\n"
   ]
  },
  {
   "cell_type": "code",
   "execution_count": 58,
   "metadata": {
    "id": "c9DM-_V8hk-B"
   },
   "outputs": [],
   "source": [
    "# Define the function\n",
    "def my_function(fruit, fruit_counts):\n",
    "    '''\n",
    "    Given: a str (fruit) and a dict of fruit counts (fruit_counts)\n",
    "    Return: the count for the given fruit\n",
    "    '''\n",
    "    count = 0                  # Initialize the fruit count to zero\n",
    "    \n",
    "    if fruit in fruit_counts.keys(): # If this fruit is in the dictionary of fruits\n",
    "        count = fruit_counts[fruit]  # Get its count\n",
    "        \n",
    "    return count               # Return the count of this fruit"
   ]
  },
  {
   "cell_type": "markdown",
   "metadata": {
    "id": "u8-gBKMMhmFa",
    "slideshow": {
     "slide_type": "slide"
    }
   },
   "source": [
    "Note that in the example below where we call the function, our variables (`fruit` and `fruit_counts`) that we're going to input into the function and the function arguments have the same names. This does not have to be the case! \n",
    "\n",
    "If we say `my_function(any_variable_name, any_variable_name_2)`, the function will still interpret these inputs as `fruit` and `fruit_counts`, based on the order they're inputted. This is what allows functions to be generalizable to any inputs. \n",
    "\n",
    "Similarly, we can name our output anything when we call the function (not just `counts`), and python will assign it the same value as the count output generated by the function."
   ]
  },
  {
   "cell_type": "code",
   "execution_count": 59,
   "metadata": {
    "id": "Tsv0223lhtKd"
   },
   "outputs": [
    {
     "name": "stdout",
     "output_type": "stream",
     "text": [
      "there are 5 apples\n"
     ]
    }
   ],
   "source": [
    "# Call the function\n",
    "fruit_counts = {'apple': 5,'banana': 3,'orange': 7}\n",
    "fruit = 'apple'\n",
    "\n",
    "count = my_function(fruit, fruit_counts) # Run the function on these arguments and save the returned count\n",
    "print('there are {} {}s'.format(count, fruit)) # Print the results"
   ]
  },
  {
   "cell_type": "markdown",
   "metadata": {
    "slideshow": {
     "slide_type": "slide"
    }
   },
   "source": [
    "#### Exercise 20.\n",
    "\n",
    "Write a function to calculate the quadratic formula given a, b, and c. (Hint: Use math.sqrt() for the square root function.)"
   ]
  },
  {
   "cell_type": "code",
   "execution_count": null,
   "metadata": {},
   "outputs": [],
   "source": [
    "import math # Import the math package to calculate the square root\n",
    "def quadratic_formula(a, b, c):\n",
    "    '''\n",
    "    Given: a (int), b (int), c(int)\n",
    "    Return: x as calculated by the quadratic formula\n",
    "    '''\n",
    "    #FIXME!\n",
    "    return x"
   ]
  },
  {
   "cell_type": "markdown",
   "metadata": {
    "slideshow": {
     "slide_type": "slide"
    }
   },
   "source": [
    "#### Exercise 21.\n",
    "\n",
    "Write a function to calculate the dictionary of $\\nu_i$ given a dictionary of $\\tau_i$ and a dictionary of $\\ell_i$."
   ]
  },
  {
   "cell_type": "code",
   "execution_count": null,
   "metadata": {},
   "outputs": [],
   "source": [
    "def tau_to_nu(taus, ls):\n",
    "    '''\n",
    "    Given: transcript abundances taus (dict of floats) and \n",
    "           transcript lengths ls (dict of ints)\n",
    "    Return: nucleotide abundances (dict of floats)\n",
    "    '''\n",
    "    #FIXME!\n",
    "    return nus"
   ]
  },
  {
   "cell_type": "markdown",
   "metadata": {
    "id": "VZD0Z4PuH22Z",
    "slideshow": {
     "slide_type": "slide"
    }
   },
   "source": [
    "# Get Coding!\n",
    "\n",
    "Whew that was a lot. But if you feel comfortable with everything we just did, then you're equipped to do all the coding you'll need to do in MCB112! If you're completely new to coding, you may want to check out a more thorough tutorial like [this one](https://www.w3schools.com/python/) to get more comfortable. \n",
    "\n",
    "When you feel ready to jump into some coding problems, complete the practice problems linked on this week's section notes on the website."
   ]
  },
  {
   "cell_type": "markdown",
   "metadata": {
    "id": "Kn3FViQjI4Z8",
    "slideshow": {
     "slide_type": "skip"
    }
   },
   "source": [
    "### Troubleshooting\n",
    "\n",
    "What's the best way to troubleshoot when you're stuck?\n",
    "\n",
    "- **Python Documentation**: Python has terrific online documentation for all of its functions. Python packages, which we'll talk about next week, also (usually) have their own documentation pages. These pages include descriptions and examples.\n",
    "    - [Python Docs](https://docs.python.org/3.9/)\n",
    "\n",
    "\n",
    "- **Google**: Many coding questions have already been answered online and can be found with a quick search. A popular site to troubleshoot coding questions is Stack Overflow. You should not just copy/paste code (this usually will not work for your specific problem anyway). But sites like Stack Overflow are helpful for figuring out little quirks in Python functions and also for seeing ways that other people have solved different problems.\n",
    "    - [Stack Overflow](https://stackoverflow.com/)\n",
    "\n",
    "\n",
    "- **Class Resources**: These include the Piazza page for directly asking questions, as well as lecture, section, and office hours. Working together with classmates can also be super helpful. You are expected to submit your own work for each pset (your code and text should not look like your friend's submission), but we encourage you to talk to each other about ideas and help each other figure out problems along the way. That's part of science!\n",
    "    - [Piazza](https://piazza.com/class/ks8z7zhvs6w4ev)"
   ]
  }
 ],
 "metadata": {
  "colab": {
   "collapsed_sections": [],
   "name": "python_section_01.ipynb",
   "provenance": [],
   "toc_visible": true
  },
  "kernelspec": {
   "display_name": "Python 3",
   "language": "python",
   "name": "python3"
  },
  "language_info": {
   "codemirror_mode": {
    "name": "ipython",
    "version": 3
   },
   "file_extension": ".py",
   "mimetype": "text/x-python",
   "name": "python",
   "nbconvert_exporter": "python",
   "pygments_lexer": "ipython3",
   "version": "3.8.5"
  }
 },
 "nbformat": 4,
 "nbformat_minor": 1
}
