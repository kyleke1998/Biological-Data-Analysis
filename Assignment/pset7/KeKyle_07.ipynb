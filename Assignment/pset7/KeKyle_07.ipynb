{
 "cells": [
  {
   "cell_type": "markdown",
   "metadata": {},
   "source": [
    "## 1. Write a python function to run an external edgeR analysis"
   ]
  },
  {
   "cell_type": "code",
   "execution_count": 2,
   "metadata": {},
   "outputs": [],
   "source": [
    "import numpy as np\n",
    "import pandas as pd\n",
    "\n",
    "\n",
    "def merge_input_files(file_cond_1,file_cond_2):\n",
    "    \"\"\"\n",
    "    This function takes two file names each of a single condition\n",
    "    and merge them into a single file with a total of 6 samples - 3 from each condition\n",
    "    \"\"\"\n",
    "    pd.read_table(file_cond_1)\n",
    "    file_1 = pd.read_table(file_cond_1)\n",
    "    file_2 = pd.read_table(file_cond_2)\n",
    "    file_with_two_conditions = pd.merge(file_1,file_2,on='#gene')\n",
    "    file_with_two_conditions.to_csv('merged_file', sep=\"\\t\",index=False)\n",
    "\n",
    "def run_edgeR(infile_1,infile_2):\n",
    "\n",
    "    \"\"\"\n",
    "    This function takes in two files from two different conditions, merge them into one file, write the merged file\n",
    "    and write an r script that can be used to run the edgeR algorithm on the input\n",
    "    \"\"\"\n",
    "\n",
    "    merge_input_files(infile_1,infile_2)\n",
    "\n",
    "    # l1 through l10 are lines in the .R script\n",
    "\n",
    "    l1 = \"library(edgeR)\"\n",
    "    l2 = \"infile <- 'merged_file'\"\n",
    "    l3 = \"group <- factor(c(1,1,1,2,2,2))\"\n",
    "    l4 = \"outfile <-'analysis.out'\"\n",
    "    l5 = \"x <-read.table(infile, row.names=1)\"\n",
    "    l6 = \"y <-DGEList(counts=x,group=group)\"\n",
    "    l7 = \"y <-estimateDisp(y)\"\n",
    "    l8 = \"et <- exactTest(y)\"\n",
    "    l9 = \"tab <- topTags(et, nrow(x))\"\n",
    "    l10 = \"write.table(tab, file=outfile, quote=FALSE)\"\n",
    "\n",
    "    with open('edgeR.r','w') as f:\n",
    "        f.writelines(\"%s\\n\" % line for line in [l1, l2, l3, l4, l5, l6, l7, l8, l9, l10])\n",
    "    ! Rscript edgeR.r\n",
    "    \n",
    "    output_df = pd.read_table('analysis.out',sep=\" \")\n",
    "\n",
    "    return output_df\n",
    "\n"
   ]
  },
  {
   "cell_type": "markdown",
   "metadata": {},
   "source": [
    "### Testing the function out."
   ]
  },
  {
   "cell_type": "code",
   "execution_count": 3,
   "metadata": {},
   "outputs": [
    {
     "name": "stderr",
     "output_type": "stream",
     "text": [
      "Loading required package: limma\n",
      "Using classic mode.\n"
     ]
    },
    {
     "data": {
      "text/html": [
       "<div>\n",
       "<style scoped>\n",
       "    .dataframe tbody tr th:only-of-type {\n",
       "        vertical-align: middle;\n",
       "    }\n",
       "\n",
       "    .dataframe tbody tr th {\n",
       "        vertical-align: top;\n",
       "    }\n",
       "\n",
       "    .dataframe thead th {\n",
       "        text-align: right;\n",
       "    }\n",
       "</style>\n",
       "<table border=\"1\" class=\"dataframe\">\n",
       "  <thead>\n",
       "    <tr style=\"text-align: right;\">\n",
       "      <th></th>\n",
       "      <th>logFC</th>\n",
       "      <th>logCPM</th>\n",
       "      <th>PValue</th>\n",
       "      <th>FDR</th>\n",
       "    </tr>\n",
       "  </thead>\n",
       "  <tbody>\n",
       "    <tr>\n",
       "      <th>huckleberry</th>\n",
       "      <td>7.707685</td>\n",
       "      <td>10.829353</td>\n",
       "      <td>4.465235e-34</td>\n",
       "      <td>8.944312e-30</td>\n",
       "    </tr>\n",
       "    <tr>\n",
       "      <th>watercress</th>\n",
       "      <td>7.312414</td>\n",
       "      <td>9.782148</td>\n",
       "      <td>1.896153e-32</td>\n",
       "      <td>1.899092e-28</td>\n",
       "    </tr>\n",
       "    <tr>\n",
       "      <th>chestnut</th>\n",
       "      <td>7.506817</td>\n",
       "      <td>7.867870</td>\n",
       "      <td>3.059913e-31</td>\n",
       "      <td>1.828872e-27</td>\n",
       "    </tr>\n",
       "    <tr>\n",
       "      <th>rosemary</th>\n",
       "      <td>7.375350</td>\n",
       "      <td>9.955355</td>\n",
       "      <td>3.652083e-31</td>\n",
       "      <td>1.828872e-27</td>\n",
       "    </tr>\n",
       "    <tr>\n",
       "      <th>cauliflower</th>\n",
       "      <td>6.924342</td>\n",
       "      <td>10.785685</td>\n",
       "      <td>7.079227e-30</td>\n",
       "      <td>2.836080e-26</td>\n",
       "    </tr>\n",
       "    <tr>\n",
       "      <th>...</th>\n",
       "      <td>...</td>\n",
       "      <td>...</td>\n",
       "      <td>...</td>\n",
       "      <td>...</td>\n",
       "    </tr>\n",
       "    <tr>\n",
       "      <th>PRRG2</th>\n",
       "      <td>0.000034</td>\n",
       "      <td>6.777514</td>\n",
       "      <td>1.000000e+00</td>\n",
       "      <td>1.000000e+00</td>\n",
       "    </tr>\n",
       "    <tr>\n",
       "      <th>HS3ST2</th>\n",
       "      <td>-0.000005</td>\n",
       "      <td>3.980425</td>\n",
       "      <td>1.000000e+00</td>\n",
       "      <td>1.000000e+00</td>\n",
       "    </tr>\n",
       "    <tr>\n",
       "      <th>EXT2</th>\n",
       "      <td>0.000000</td>\n",
       "      <td>-4.895947</td>\n",
       "      <td>1.000000e+00</td>\n",
       "      <td>1.000000e+00</td>\n",
       "    </tr>\n",
       "    <tr>\n",
       "      <th>CCDC153</th>\n",
       "      <td>0.000000</td>\n",
       "      <td>-4.895947</td>\n",
       "      <td>1.000000e+00</td>\n",
       "      <td>1.000000e+00</td>\n",
       "    </tr>\n",
       "    <tr>\n",
       "      <th>C14orf2</th>\n",
       "      <td>0.000000</td>\n",
       "      <td>-4.895947</td>\n",
       "      <td>1.000000e+00</td>\n",
       "      <td>1.000000e+00</td>\n",
       "    </tr>\n",
       "  </tbody>\n",
       "</table>\n",
       "<p>20031 rows × 4 columns</p>\n",
       "</div>"
      ],
      "text/plain": [
       "                logFC     logCPM        PValue           FDR\n",
       "huckleberry  7.707685  10.829353  4.465235e-34  8.944312e-30\n",
       "watercress   7.312414   9.782148  1.896153e-32  1.899092e-28\n",
       "chestnut     7.506817   7.867870  3.059913e-31  1.828872e-27\n",
       "rosemary     7.375350   9.955355  3.652083e-31  1.828872e-27\n",
       "cauliflower  6.924342  10.785685  7.079227e-30  2.836080e-26\n",
       "...               ...        ...           ...           ...\n",
       "PRRG2        0.000034   6.777514  1.000000e+00  1.000000e+00\n",
       "HS3ST2      -0.000005   3.980425  1.000000e+00  1.000000e+00\n",
       "EXT2         0.000000  -4.895947  1.000000e+00  1.000000e+00\n",
       "CCDC153      0.000000  -4.895947  1.000000e+00  1.000000e+00\n",
       "C14orf2      0.000000  -4.895947  1.000000e+00  1.000000e+00\n",
       "\n",
       "[20031 rows x 4 columns]"
      ]
     },
     "execution_count": 3,
     "metadata": {},
     "output_type": "execute_result"
    }
   ],
   "source": [
    "run_edgeR('w07-data.1','w07-data.2')"
   ]
  },
  {
   "cell_type": "markdown",
   "metadata": {},
   "source": [
    "## 2. Reproduce Wiggins' data, assign the missing labels"
   ]
  },
  {
   "cell_type": "markdown",
   "metadata": {},
   "source": [
    "### Comparing data files 1 and 2:"
   ]
  },
  {
   "cell_type": "code",
   "execution_count": 8,
   "metadata": {},
   "outputs": [
    {
     "name": "stderr",
     "output_type": "stream",
     "text": [
      "Loading required package: limma\n",
      "Using classic mode.\n"
     ]
    },
    {
     "data": {
      "text/html": [
       "<div>\n",
       "<style scoped>\n",
       "    .dataframe tbody tr th:only-of-type {\n",
       "        vertical-align: middle;\n",
       "    }\n",
       "\n",
       "    .dataframe tbody tr th {\n",
       "        vertical-align: top;\n",
       "    }\n",
       "\n",
       "    .dataframe thead th {\n",
       "        text-align: right;\n",
       "    }\n",
       "</style>\n",
       "<table border=\"1\" class=\"dataframe\">\n",
       "  <thead>\n",
       "    <tr style=\"text-align: right;\">\n",
       "      <th></th>\n",
       "      <th>logFC</th>\n",
       "      <th>logCPM</th>\n",
       "      <th>PValue</th>\n",
       "      <th>FDR</th>\n",
       "    </tr>\n",
       "  </thead>\n",
       "  <tbody>\n",
       "    <tr>\n",
       "      <th>huckleberry</th>\n",
       "      <td>7.707685</td>\n",
       "      <td>10.829353</td>\n",
       "      <td>4.465235e-34</td>\n",
       "      <td>8.944312e-30</td>\n",
       "    </tr>\n",
       "    <tr>\n",
       "      <th>watercress</th>\n",
       "      <td>7.312414</td>\n",
       "      <td>9.782148</td>\n",
       "      <td>1.896153e-32</td>\n",
       "      <td>1.899092e-28</td>\n",
       "    </tr>\n",
       "    <tr>\n",
       "      <th>chestnut</th>\n",
       "      <td>7.506817</td>\n",
       "      <td>7.867870</td>\n",
       "      <td>3.059913e-31</td>\n",
       "      <td>1.828872e-27</td>\n",
       "    </tr>\n",
       "    <tr>\n",
       "      <th>rosemary</th>\n",
       "      <td>7.375350</td>\n",
       "      <td>9.955355</td>\n",
       "      <td>3.652083e-31</td>\n",
       "      <td>1.828872e-27</td>\n",
       "    </tr>\n",
       "    <tr>\n",
       "      <th>cauliflower</th>\n",
       "      <td>6.924342</td>\n",
       "      <td>10.785685</td>\n",
       "      <td>7.079227e-30</td>\n",
       "      <td>2.836080e-26</td>\n",
       "    </tr>\n",
       "  </tbody>\n",
       "</table>\n",
       "</div>"
      ],
      "text/plain": [
       "                logFC     logCPM        PValue           FDR\n",
       "huckleberry  7.707685  10.829353  4.465235e-34  8.944312e-30\n",
       "watercress   7.312414   9.782148  1.896153e-32  1.899092e-28\n",
       "chestnut     7.506817   7.867870  3.059913e-31  1.828872e-27\n",
       "rosemary     7.375350   9.955355  3.652083e-31  1.828872e-27\n",
       "cauliflower  6.924342  10.785685  7.079227e-30  2.836080e-26"
      ]
     },
     "execution_count": 8,
     "metadata": {},
     "output_type": "execute_result"
    }
   ],
   "source": [
    "results_1_2 = run_edgeR('w07-data.1','w07-data.2')\n",
    "results_1_2.head()"
   ]
  },
  {
   "cell_type": "markdown",
   "metadata": {},
   "source": [
    "### Comparing data files 1 and 3:"
   ]
  },
  {
   "cell_type": "code",
   "execution_count": 70,
   "metadata": {},
   "outputs": [
    {
     "name": "stderr",
     "output_type": "stream",
     "text": [
      "Loading required package: limma\n",
      "Using classic mode.\n"
     ]
    },
    {
     "data": {
      "text/html": [
       "<div>\n",
       "<style scoped>\n",
       "    .dataframe tbody tr th:only-of-type {\n",
       "        vertical-align: middle;\n",
       "    }\n",
       "\n",
       "    .dataframe tbody tr th {\n",
       "        vertical-align: top;\n",
       "    }\n",
       "\n",
       "    .dataframe thead th {\n",
       "        text-align: right;\n",
       "    }\n",
       "</style>\n",
       "<table border=\"1\" class=\"dataframe\">\n",
       "  <thead>\n",
       "    <tr style=\"text-align: right;\">\n",
       "      <th></th>\n",
       "      <th>logFC</th>\n",
       "      <th>logCPM</th>\n",
       "      <th>PValue</th>\n",
       "      <th>FDR</th>\n",
       "    </tr>\n",
       "  </thead>\n",
       "  <tbody>\n",
       "    <tr>\n",
       "      <th>MRPL49</th>\n",
       "      <td>2.045484</td>\n",
       "      <td>6.441372</td>\n",
       "      <td>0.000038</td>\n",
       "      <td>0.620922</td>\n",
       "    </tr>\n",
       "    <tr>\n",
       "      <th>ZNF623</th>\n",
       "      <td>1.934356</td>\n",
       "      <td>4.972154</td>\n",
       "      <td>0.000083</td>\n",
       "      <td>0.620922</td>\n",
       "    </tr>\n",
       "    <tr>\n",
       "      <th>ZNF718</th>\n",
       "      <td>-1.929874</td>\n",
       "      <td>6.817988</td>\n",
       "      <td>0.000093</td>\n",
       "      <td>0.620922</td>\n",
       "    </tr>\n",
       "    <tr>\n",
       "      <th>TUBA8</th>\n",
       "      <td>1.806545</td>\n",
       "      <td>2.405520</td>\n",
       "      <td>0.000274</td>\n",
       "      <td>0.958774</td>\n",
       "    </tr>\n",
       "    <tr>\n",
       "      <th>spinach</th>\n",
       "      <td>-1.761288</td>\n",
       "      <td>5.314717</td>\n",
       "      <td>0.000329</td>\n",
       "      <td>0.958774</td>\n",
       "    </tr>\n",
       "  </tbody>\n",
       "</table>\n",
       "</div>"
      ],
      "text/plain": [
       "            logFC    logCPM    PValue       FDR\n",
       "MRPL49   2.045484  6.441372  0.000038  0.620922\n",
       "ZNF623   1.934356  4.972154  0.000083  0.620922\n",
       "ZNF718  -1.929874  6.817988  0.000093  0.620922\n",
       "TUBA8    1.806545  2.405520  0.000274  0.958774\n",
       "spinach -1.761288  5.314717  0.000329  0.958774"
      ]
     },
     "execution_count": 70,
     "metadata": {},
     "output_type": "execute_result"
    }
   ],
   "source": [
    "results_1_3 = run_edgeR('w07-data.1','w07-data.3')\n",
    "results_1_3.head()"
   ]
  },
  {
   "cell_type": "markdown",
   "metadata": {},
   "source": [
    "### Comparing data files 2 and 3:"
   ]
  },
  {
   "cell_type": "code",
   "execution_count": 71,
   "metadata": {},
   "outputs": [
    {
     "name": "stderr",
     "output_type": "stream",
     "text": [
      "Loading required package: limma\n",
      "Using classic mode.\n"
     ]
    },
    {
     "data": {
      "text/html": [
       "<div>\n",
       "<style scoped>\n",
       "    .dataframe tbody tr th:only-of-type {\n",
       "        vertical-align: middle;\n",
       "    }\n",
       "\n",
       "    .dataframe tbody tr th {\n",
       "        vertical-align: top;\n",
       "    }\n",
       "\n",
       "    .dataframe thead th {\n",
       "        text-align: right;\n",
       "    }\n",
       "</style>\n",
       "<table border=\"1\" class=\"dataframe\">\n",
       "  <thead>\n",
       "    <tr style=\"text-align: right;\">\n",
       "      <th></th>\n",
       "      <th>logFC</th>\n",
       "      <th>logCPM</th>\n",
       "      <th>PValue</th>\n",
       "      <th>FDR</th>\n",
       "    </tr>\n",
       "  </thead>\n",
       "  <tbody>\n",
       "    <tr>\n",
       "      <th>rosemary</th>\n",
       "      <td>-7.326192</td>\n",
       "      <td>9.955655</td>\n",
       "      <td>6.217532e-31</td>\n",
       "      <td>7.840068e-27</td>\n",
       "    </tr>\n",
       "    <tr>\n",
       "      <th>arugula</th>\n",
       "      <td>-7.348702</td>\n",
       "      <td>10.237827</td>\n",
       "      <td>7.827934e-31</td>\n",
       "      <td>7.840068e-27</td>\n",
       "    </tr>\n",
       "    <tr>\n",
       "      <th>cauliflower</th>\n",
       "      <td>-7.165466</td>\n",
       "      <td>10.783871</td>\n",
       "      <td>5.996830e-30</td>\n",
       "      <td>4.004083e-26</td>\n",
       "    </tr>\n",
       "    <tr>\n",
       "      <th>huckleberry</th>\n",
       "      <td>-7.090442</td>\n",
       "      <td>10.833016</td>\n",
       "      <td>1.254228e-29</td>\n",
       "      <td>6.280861e-26</td>\n",
       "    </tr>\n",
       "    <tr>\n",
       "      <th>parsley</th>\n",
       "      <td>-6.964984</td>\n",
       "      <td>9.287336</td>\n",
       "      <td>1.221178e-28</td>\n",
       "      <td>4.892284e-25</td>\n",
       "    </tr>\n",
       "  </tbody>\n",
       "</table>\n",
       "</div>"
      ],
      "text/plain": [
       "                logFC     logCPM        PValue           FDR\n",
       "rosemary    -7.326192   9.955655  6.217532e-31  7.840068e-27\n",
       "arugula     -7.348702  10.237827  7.827934e-31  7.840068e-27\n",
       "cauliflower -7.165466  10.783871  5.996830e-30  4.004083e-26\n",
       "huckleberry -7.090442  10.833016  1.254228e-29  6.280861e-26\n",
       "parsley     -6.964984   9.287336  1.221178e-28  4.892284e-25"
      ]
     },
     "execution_count": 71,
     "metadata": {},
     "output_type": "execute_result"
    }
   ],
   "source": [
    "results_2_3 = run_edgeR('w07-data.2','w07-data.3')\n",
    "results_2_3.head()"
   ]
  },
  {
   "cell_type": "code",
   "execution_count": 74,
   "metadata": {},
   "outputs": [
    {
     "name": "stdout",
     "output_type": "stream",
     "text": [
      "(1,2) smaller than 0.05:\n",
      "2147\n",
      "(1,3) smaller than 0.05:\n",
      "986\n",
      "(2,3) smaller than 0.05:\n",
      "2136\n"
     ]
    }
   ],
   "source": [
    "# Searching through the p-values of each comparison for the number of p-values that is less than the 0.05 threshold\n",
    "\n",
    "print('(1,2) smaller than 0.05:')\n",
    "print(sum(results_1_2.PValue < 0.05))\n",
    "print('(1,3) smaller than 0.05:')\n",
    "print(sum(results_1_3.PValue < 0.05))\n",
    "print('(2,3) smaller than 0.05:')\n",
    "print(sum(results_2_3.PValue < 0.05))"
   ]
  },
  {
   "cell_type": "markdown",
   "metadata": {},
   "source": [
    "### At the significance level of 0.05, Wiggin's obtained his results of 2147 differentially expressed genes from data files 1 and 2. From the number of unadjusted p-values that are below the 0.05 threshold in each comparison, we observe the (1,2) and (2,3) comparison both have around 2140 significant p-values but the (1,3) comparison only have 986 significant p-values. Thus, I conclude that data files 1 and 3 are wild type and data file 2 is the mutant type."
   ]
  },
  {
   "cell_type": "markdown",
   "metadata": {},
   "source": [
    "## 3. Wiggins doesn't understand p-values\n"
   ]
  },
  {
   "cell_type": "markdown",
   "metadata": {},
   "source": [
    "### I do not agree with Wiggins' conclusion that 2147 genes are differentially expressed because he used the raw p-values that have not been adjusted for false discovery rate. For a given gene, at the significance level of 0.05, we also have an expected false positive rate of 0.05. There are 20031 genes in the dataset so we would expect 20031 x 0.05 = 1002 false positive. According to this this calculation, nearly half of the 2147 genes deemed differentially expressed by Wiggin are expected to be false positives. He also did not filter genes with low expression.\n",
    "\n",
    "### I decided to control for false discovery rate at the 0.05 level, meaning out of all of the genes that I deemed as differentially expressed, 0.05 of them are expected to be false positives. (FP / FP + TP). The FDR has been conviently calculated for us by the edgeR algorithm, now we just need to rank the FDR from the smallest to the biggest and find all the genes that have FDR < 0.05."
   ]
  },
  {
   "cell_type": "code",
   "execution_count": 21,
   "metadata": {},
   "outputs": [
    {
     "name": "stdout",
     "output_type": "stream",
     "text": [
      "last five genes with FDR < 0.05:\n",
      "              logFC     logCPM        PValue           FDR\n",
      "raspberry  5.041524   8.298227  1.094444e-18  4.567252e-16\n",
      "eggplant   4.746436  10.314267  6.561074e-18  2.682140e-15\n",
      "parsnip    4.724994   9.074043  6.169461e-17  2.471609e-14\n",
      "FAM179A   -2.221777   6.879760  7.785914e-06  2.942635e-03\n",
      "ACO2      -1.958138   7.071671  7.943618e-05  2.552192e-02\n",
      "Number of differentially expressed gene with FDR < 0.05:\n",
      "50\n"
     ]
    }
   ],
   "source": [
    "# low expression threshold\n",
    "log_cpm_threshold = np.log2(100)\n",
    "\n",
    "print(\"last five genes with FDR < 0.05:\")\n",
    "print(results_1_2.query(\"(FDR < 0.05) & (logCPM > @log_cpm_threshold)\").tail())\n",
    "print(\"Number of differentially expressed gene with FDR < 0.05:\")\n",
    "print(results_1_2.query(\"(FDR < 0.05) & (logCPM > @log_cpm_threshold)\").shape[0])"
   ]
  },
  {
   "cell_type": "markdown",
   "metadata": {},
   "source": [
    "### According to my calculations, there are only 75 statistically significant genes at FDR threshold of 0.05"
   ]
  },
  {
   "cell_type": "markdown",
   "metadata": {},
   "source": [
    "## 4. Wiggins missed somthing else too"
   ]
  },
  {
   "cell_type": "markdown",
   "metadata": {},
   "source": [
    "### Wiggins' missed the assumption that we are measuring relative abundance of each gene in each sample, not total RNA output on a per-cell basis. In other words, we are only interested in measuring statistically significant \"direct\" effects on relative RNA abundance. Therefore, if a small proportion of highly expressed genes consume a big proportion of the total library size for a particular sample, this will cause the remaining genes to be undersampled.  We need to add the trimmed mean of M-values (TMM) normalization step to the R-script."
   ]
  },
  {
   "cell_type": "code",
   "execution_count": 15,
   "metadata": {},
   "outputs": [],
   "source": [
    "\n",
    "def run_edgeR_TMM(infile_1,infile_2):\n",
    "\n",
    "    \"\"\"\n",
    "    This function takes in two files from two different conditions, merge them into one file, write the merged file\n",
    "    and write an r script that can be used to run the edgeR algorithm on the input\n",
    "    \"\"\"\n",
    "\n",
    "    merge_input_files(infile_1,infile_2)\n",
    "\n",
    "    # l1 through l10 are lines in the .R script\n",
    "\n",
    "    l1 = \"library(edgeR)\"\n",
    "    l2 = \"infile <- 'merged_file'\"\n",
    "    l3 = \"group <- factor(c(1,1,1,2,2,2))\"\n",
    "    l4 = \"outfile <-'analysis_tmm.out'\"\n",
    "    l5 = \"x <-read.table(infile, row.names=1)\"\n",
    "    l6 = \"y <-DGEList(counts=x,group=group)\"\n",
    "    l7 = \"y_adjusted <- calcNormFactors(y)\"\n",
    "    l8 = \"y <-estimateDisp(y_adjusted)\"\n",
    "    l9 = \"et <- exactTest(y)\"\n",
    "    l10 = \"tab <- topTags(et, nrow(x))\"\n",
    "    l11 = \"write.table(tab, file=outfile, quote=FALSE)\"\n",
    "\n",
    "    with open('edgeR.r','w') as f:\n",
    "        f.writelines(\"%s\\n\" % line for line in [l1, l2, l3, l4, l5, l6, l7, l8, l9, l10,l11])\n",
    "    ! Rscript edgeR.r\n",
    "    \n",
    "    output_df = pd.read_table('analysis_tmm.out',sep=\" \")\n",
    "\n",
    "    return output_df"
   ]
  },
  {
   "cell_type": "code",
   "execution_count": 23,
   "metadata": {},
   "outputs": [
    {
     "name": "stderr",
     "output_type": "stream",
     "text": [
      "Loading required package: limma\n",
      "Using classic mode.\n"
     ]
    }
   ],
   "source": [
    "results_1_2_adjusted = run_edgeR_TMM('w07-data.1','w07-data.2')"
   ]
  },
  {
   "cell_type": "code",
   "execution_count": 27,
   "metadata": {},
   "outputs": [
    {
     "name": "stdout",
     "output_type": "stream",
     "text": [
      "Post-adjustment number of statistically significant genes given FDR threshold of 0.05\n",
      "54\n"
     ]
    }
   ],
   "source": [
    "print(\"Post-adjustment number of statistically significant genes given FDR threshold of 0.05\")\n",
    "print(results_1_2_adjusted.query(\"(FDR < 0.05)\").shape[0])"
   ]
  },
  {
   "cell_type": "code",
   "execution_count": 26,
   "metadata": {},
   "outputs": [
    {
     "data": {
      "text/plain": [
       "1"
      ]
     },
     "execution_count": 26,
     "metadata": {},
     "output_type": "execute_result"
    }
   ],
   "source": [
    "# taking the set theory difference between genes previously deemed statistically significant and genes deemd significant after extra normalization\n",
    "len(set(results_1_2.query(\"(FDR < 0.05) & (logCPM > @log_cpm_threshold)\").index) - set(results_1_2_adjusted.query(\"(FDR < 0.05) & (logCPM > @log_cpm_threshold)\").index))"
   ]
  },
  {
   "cell_type": "markdown",
   "metadata": {},
   "source": [
    "### After the TMM normalization step, only 54 genes are statistically significant at the FDR threshold. 22 genes that are previously deteremined to be statistically significant are no longer statistically significant. This is because the TMM normalization step minimzied the log-fold changes between the samples for most genes, so the genes that were previously deemed statistically significant due to \"indirect\" effects from overexpressed gene in certain samples are eliminated."
   ]
  }
 ],
 "metadata": {
  "kernelspec": {
   "display_name": "Python 3.9.7 ('base')",
   "language": "python",
   "name": "python3"
  },
  "language_info": {
   "codemirror_mode": {
    "name": "ipython",
    "version": 3
   },
   "file_extension": ".py",
   "mimetype": "text/x-python",
   "name": "python",
   "nbconvert_exporter": "python",
   "pygments_lexer": "ipython3",
   "version": "3.9.7"
  },
  "orig_nbformat": 4,
  "vscode": {
   "interpreter": {
    "hash": "cf03e3dae6cd90215c49561c10ab9ba5e35cdc7a8fe6139efc815ef068c0abf4"
   }
  }
 },
 "nbformat": 4,
 "nbformat_minor": 2
}
