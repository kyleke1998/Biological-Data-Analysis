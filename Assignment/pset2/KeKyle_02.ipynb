{
 "cells": [
  {
   "cell_type": "markdown",
   "metadata": {},
   "source": [
    "## 1. Use kallisto and reproduce Moriarty's result"
   ]
  },
  {
   "cell_type": "code",
   "execution_count": 28,
   "metadata": {},
   "outputs": [
    {
     "name": "stderr",
     "output_type": "stream",
     "text": [
      "\n",
      "[build] loading fasta file arc.fasta.gz\n",
      "[build] k-mer length: 31\n",
      "[build] counting k-mers ... done.\n",
      "[build] building target de Bruijn graph ...  done \n",
      "[build] creating equivalence classes ...  done\n",
      "[build] target de Bruijn graph has 19 contigs and contains 10000 k-mers \n",
      "\n"
     ]
    }
   ],
   "source": [
    "# Building a kallisto index of the Arc transcriptome, which we'll call transcripts.idx\n",
    "!kallisto index -i transcripts.idx arc.fasta.gz"
   ]
  },
  {
   "cell_type": "code",
   "execution_count": 29,
   "metadata": {},
   "outputs": [
    {
     "name": "stderr",
     "output_type": "stream",
     "text": [
      "\n",
      "[quant] fragment length distribution is truncated gaussian with mean = 150, sd = 20\n",
      "[index] k-mer length: 31\n",
      "[index] number of targets: 10\n",
      "[index] number of k-mers: 10,000\n",
      "[index] number of equivalence classes: 26\n",
      "[quant] running in single-end mode\n",
      "[quant] will process file 1: arc.fastq.gz\n",
      "[quant] finding pseudoalignments for the reads ... done\n",
      "[quant] processed 100,000 reads, 99,981 reads pseudoaligned\n",
      "[   em] quantifying the abundances ... done\n",
      "[   em] the Expectation-Maximization algorithm ran for 81 rounds\n",
      "\n"
     ]
    }
   ],
   "source": [
    "# Quantification of single end reads passing in the mean and standard deviation of fragment length\n",
    "!kallisto quant -i transcripts.idx -o replicate_moriarty --single -l 150 -s 20 arc.fastq.gz  "
   ]
  },
  {
   "cell_type": "markdown",
   "metadata": {},
   "source": [
    "#### Table of results from replication of Moriarty's results\n",
    "| Transcript | Moriarty's  TPM | TPM from replicating Moriarty |\n",
    "| --- | --- | --- |\n",
    "| Arc 1 | 20000 |20318.9 |\n",
    "| Arc 2 | 54000 |54477.8 |\n",
    "| Arc 3 | 280000  | 282290 |\n",
    "| Arc 4 | 76000   | 76050.3|\n",
    "| Arc 5 | 95000   | 95263 |\n",
    "| Arc 6 | 12000   | 11792 |\n",
    "| Arc 7 | 89000   | 89113.5|\n",
    "| Arc 8 | 88000   | 86881.2|\n",
    "| Arc 9 | 29000   | 28704.4|\n",
    "| Arc 10 | 260000   | 255109|"
   ]
  },
  {
   "cell_type": "markdown",
   "metadata": {},
   "source": [
    "### From the above table showing Moriarty's TPM versus the results from my replication, we see that the TPMs are very similar. Thus, I successfully replicated Moriarty's results. To reconcile the first researcher's argument that Arc1 and Arc6 are the rarest transcripts and Moriarty's argument that the first researcher underestimated the abundance of Arc1 by about 3-fold and Arc6 by about 2-fold, I proceed to simulate an Arc transcriptome and RNA-seq reads."
   ]
  },
  {
   "cell_type": "markdown",
   "metadata": {},
   "source": [
    "## 2a. Simulate an Arc transcriptome and RNA-seq reads"
   ]
  },
  {
   "cell_type": "code",
   "execution_count": 16,
   "metadata": {},
   "outputs": [],
   "source": [
    "import numpy as np\n",
    "import gzip\n",
    "\n",
    "def arc_transcriptome_read_simulator(    \n",
    "    S = 10,\n",
    "    N = 100000,\n",
    "    len_S = 1000,\n",
    "    len_R = 75,\n",
    "    circular = True  \n",
    "  \n",
    "    ):\n",
    "\n",
    "     \n",
    "    T = S\n",
    "    len_ARC = len_S * S\n",
    "\n",
    "    \"\"\"\n",
    "        circular argument is passed into signify whether to generate the full circular transcriptome or \n",
    "        shortened linear transcriptome\n",
    "    \"\"\"\n",
    "    np.random.seed(42)\n",
    "    # To generate an Arc Locus DNA sequence:\n",
    "    # Creating a 2D array where each nested array is the sequence of a segment (i.e. Segment A - Segment J)\n",
    "    segments = np.reshape(np.random.choice(list('ACGT'), (len_ARC)),(-1,len_S))\n",
    "    print('Shape of the genome 2D array is ' + str(np.shape(segments)))\n",
    "    # To generate the Arc1..Arc10 mRNA transcripts:\n",
    "    # Index the Arcs 1 - 10 according to their segment coordinates\n",
    "    Arc1 = segments[0:4].flatten() # Covers ABCD\n",
    "    Arc2 = segments[1:3].flatten() # Covers BC\n",
    "    Arc3 = segments[2:5].flatten() # Covers CDE\n",
    "    Arc4 = segments[3:7].flatten() # Covers DEFG\n",
    "    Arc5 = segments[4:8].flatten() # Covers EFGH\n",
    "    Arc6 = segments[5:8].flatten() # Covers FGH\n",
    "    Arc7 = segments[6:8].flatten() # Covers GH\n",
    "    Arc8 = segments[7:9].flatten() # Covers HI\n",
    "\n",
    "    # if circular equals true, include arc9 and arc10\n",
    "    if circular == True:\n",
    "        # np.append() appends the part of the mRNA that is at end of the circle to the part of the mRNA that is at the start of the circle.\n",
    "        Arc9 = np.append(segments[8:10].flatten(),segments[0].flatten(),axis = 0) # Covers IJA. \n",
    "        Arc10 = np.append(segments[9].flatten(),segments[0:2].flatten(),axis = 0) # Covers JAB\n",
    "           # Create a list of the mRNA names \n",
    "        mRNA_names = ['Arc1','Arc2','Arc3','Arc4','Arc5','Arc6','Arc7','Arc8','Arc9','Arc10']\n",
    "    # Put the actual sequence of Arc1 - Arc10 in a list\n",
    "        mRNA_transcripts = [Arc1,Arc2,Arc3,Arc4,Arc5,Arc6,Arc7,Arc8,Arc9,Arc10]\n",
    "    # if circular is false, then only inlcue arc1 - arc8\n",
    "    else:\n",
    "        mRNA_names = ['Arc1','Arc2','Arc3','Arc4','Arc5','Arc6','Arc7','Arc8']\n",
    "        mRNA_transcripts = [Arc1,Arc2,Arc3,Arc4,Arc5,Arc6,Arc7,Arc8]\n",
    "\n",
    "\n",
    " \n",
    "\n",
    "\n",
    "    output = gzip.open(\"simulated.fasta.gz\", \"wt\")\n",
    "\n",
    "    # Creating a loop that loops over the list of mRNA names and mRNA transcripts and writes them to a .fasta file\n",
    "    for i in range(len(mRNA_names)):\n",
    "\n",
    "        # Create a variable that contains a single mRNA transcript sequence as a single string\n",
    "        single_transcript_as_list = list(mRNA_transcripts[i])\n",
    "        # Write to the output file a line that has > plus the mRNA name\n",
    "        output.write(\">\" + mRNA_names[i] + \"\\n\")\n",
    "        # Write to the output file the single mRNA transcript 70 characters per line\n",
    "        one_list_per_line = [single_transcript_as_list[i:i+70] for i in range(0,len(single_transcript_as_list), 70)]\n",
    "        for j in one_list_per_line:\n",
    "            output.write(\"\".join(j) + \"\\n\")\n",
    "    output.close()   \n",
    "\n",
    "    # Calcultating the transcript counts based on assgined nucleotide abundances from figure 1 if circular is true\n",
    "    if circular == True:\n",
    "        C_Arc1 = 0.008 * N\n",
    "        C_Arc2 = 0.039 * N\n",
    "        C_Arc3 = 0.291 * N\n",
    "        C_Arc4 = 0.112 * N\n",
    "        C_Arc5 = 0.127 * N\n",
    "        C_Arc6 = 0.008 * N\n",
    "        C_Arc7 = 0.059 * N\n",
    "        C_Arc8 = 0.060 * N\n",
    "        C_Arc9 = 0.022 * N\n",
    "        C_Arc10 = 0.273 * N\n",
    "        # putting all transcript counts into a list\n",
    "        all_arc_counts = [C_Arc1,C_Arc2,C_Arc3,C_Arc4,C_Arc5,C_Arc6,C_Arc7,C_Arc8,C_Arc9,C_Arc10]\n",
    "    \n",
    "    # Calculating the transcript counts based on self-assigned nucletide abundances for transcripts Arc1 - Arc8\n",
    "    else: \n",
    "        \n",
    "        C_Arc1 = 0.0449 * N\n",
    "        C_Arc2 = 0.0759 * N\n",
    "        C_Arc3 = 0.3279 * N\n",
    "        C_Arc4 = 0.1489 * N\n",
    "        C_Arc5 = 0.1639 * N\n",
    "        C_Arc6 = 0.0457 * N\n",
    "        C_Arc7 = 0.0959 * N\n",
    "        C_Arc8 = 0.0969 * N\n",
    "    \n",
    "        all_arc_counts = [C_Arc1,C_Arc2,C_Arc3,C_Arc4,C_Arc5,C_Arc6,C_Arc7,C_Arc8]\n",
    "    \n",
    "    list_of_reads = []\n",
    "\n",
    "\n",
    "    for k, count in enumerate(all_arc_counts):\n",
    "        #all_reads_for_one_arc = []\n",
    "        for j in range(int(count)):\n",
    "\n",
    "            start_pos = np.random.randint(0, len(mRNA_transcripts[k]) - 75) \n",
    "            single_read = mRNA_transcripts[k][start_pos : start_pos + 75]\n",
    "            assert len(single_read) == 75, 'Read length not 75'\n",
    " \n",
    "            list_of_reads.append(single_read)\n",
    "            \n",
    "\n",
    "\n",
    "    print('Number of total reads generated is ' + str(len(list_of_reads)))\n",
    "\n",
    "\n",
    "    \n",
    "\n",
    "    quality_values = ''.join(np.random.choice(list('I'), 75))\n",
    "    output_2 = gzip.open(\"simulated.fastq.gz\", \"wt\")\n",
    "    \n",
    "    \n",
    "    for i in range(int(sum(all_arc_counts)) - 1):\n",
    "\n",
    "    # Create a variable that contains a single read sequence as a single string\n",
    "        single_reads_string = \"\".join(list(list_of_reads[i]))\n",
    "        # Write to the output file a line that has > plus the mRNA name\n",
    "        output_2.write(\"@read\" + str(i+1) + \"\\n\")\n",
    "        output_2.write(single_reads_string + \"\\n\")\n",
    "        output_2.write(\"+\" + \"\\n\")\n",
    "        output_2.write(quality_values + \"\\n\")\n",
    "\n",
    "\n",
    "    output_2.close()  \n",
    "\n",
    "    \n",
    "\n",
    "        \n",
    "\n",
    "\n",
    "\n",
    "\n",
    "\n",
    "\n",
    "    \n",
    "\n",
    "\n",
    "\n",
    "\n",
    "\n",
    "\n",
    "\n",
    "\n",
    "\n"
   ]
  },
  {
   "cell_type": "code",
   "execution_count": 30,
   "metadata": {},
   "outputs": [
    {
     "name": "stdout",
     "output_type": "stream",
     "text": [
      "Shape of the genome 2D array is (10, 1000)\n",
      "Number of total reads generated is 99899\n"
     ]
    }
   ],
   "source": [
    "arc_transcriptome_read_simulator(circular=True)"
   ]
  },
  {
   "cell_type": "markdown",
   "metadata": {},
   "source": [
    "### 3. Test Kallisto"
   ]
  },
  {
   "cell_type": "code",
   "execution_count": 31,
   "metadata": {},
   "outputs": [
    {
     "name": "stderr",
     "output_type": "stream",
     "text": [
      "\n",
      "[build] loading fasta file simulated.fasta.gz\n",
      "[build] k-mer length: 31\n",
      "[build] counting k-mers ... done.\n",
      "[build] building target de Bruijn graph ...  done \n",
      "[build] creating equivalence classes ...  done\n",
      "[build] target de Bruijn graph has 19 contigs and contains 10000 k-mers \n",
      "\n"
     ]
    }
   ],
   "source": [
    "# Building a kallisto index of the simulated Arc transcriptome, which we'll call transcripts_2.idx\n",
    "!kallisto index -i transcripts_2.idx simulated.fasta.gz"
   ]
  },
  {
   "cell_type": "code",
   "execution_count": 32,
   "metadata": {},
   "outputs": [
    {
     "name": "stderr",
     "output_type": "stream",
     "text": [
      "\n",
      "[quant] fragment length distribution is truncated gaussian with mean = 75, sd = 10\n",
      "[index] k-mer length: 31\n",
      "[index] number of targets: 10\n",
      "[index] number of k-mers: 10,000\n",
      "[index] number of equivalence classes: 26\n",
      "[quant] running in single-end mode\n",
      "[quant] will process file 1: simulated.fastq.gz\n",
      "[quant] finding pseudoalignments for the reads ... done\n",
      "[quant] processed 99,899 reads, 99,899 reads pseudoaligned\n",
      "[   em] quantifying the abundances ... done\n",
      "[   em] the Expectation-Maximization algorithm ran for 69 rounds\n",
      "\n"
     ]
    }
   ],
   "source": [
    "# Quantification of simulated single ends reads passing in the mean and standard deviation of fragment length\n",
    "!kallisto quant -i transcripts_2.idx -o simulated_arc --single -l 75 -s 10 simulated.fastq.gz  "
   ]
  },
  {
   "cell_type": "markdown",
   "metadata": {},
   "source": [
    "#### Table of results from my simulation of Arc transcriptome and RNA-seq reads:\n",
    "| Transcript | TPM from Figure 1 | TPM from simulated reads |segments_covered\n",
    "| --- | --- | --- | --- |\n",
    "| Arc 1 |6000   |17275 (Approx 3 x 6000) | ABCD|\n",
    "| Arc 2 |58000   |47400| BC |\n",
    "| Arc 3 |290000   |287757| CDE |\n",
    "| Arc 4 |83000  |75902 | DEFG |\n",
    "| Arc 5 |94000  |92989 | EFGH |\n",
    "| Arc 6 |7800   |16819 (Approx 2 x 7800) | FGH |\n",
    "| Arc 7 |87000   |87543| GH |\n",
    "| Arc 8 |88000   |85776| HI |\n",
    "| Arc 9 |22000   |24461 | IJA |\n",
    "| Arc 10 |270000   |264077| JAB |\n"
   ]
  },
  {
   "cell_type": "markdown",
   "metadata": {},
   "source": [
    "### From the above table, we see how Moriarty got his claim that the abundance of Arc1 was under estimated by about 3-fold and Arc6 by about 2-fold. I formed a hypothesis that Moriarty got errornous results becauses Kallisto does not quantificate circular transcriptome robustly. I then designed an experiment where I simulated a linear transcriptome by only keeping Arc1 through Arc8 and removing Arc9 and Arc10 because these two transcripts start at the tail of the circle and end at the head of the circle (if segment A is defined as the head and segment I as the tail). I did this by assigning Arc1 through Arc8 new nucleotide abundances that is similar to the original abundances and have a sum of 1, while keeping the original lengths. I then calculated TPM from the new nucleotide abundances. This caluclated TPM will serve as the baseline for the experiment."
   ]
  },
  {
   "cell_type": "markdown",
   "metadata": {},
   "source": [
    "## 4. \"debug\" kallisto"
   ]
  },
  {
   "cell_type": "code",
   "execution_count": 20,
   "metadata": {},
   "outputs": [
    {
     "name": "stdout",
     "output_type": "stream",
     "text": [
      "Shape of the genome 2D array is (10, 1000)\n",
      "Number of total reads generated is 99999\n"
     ]
    }
   ],
   "source": [
    "# Turning the ciruclar argument to False to start the aforementioned experiment\n",
    "arc_transcriptome_read_simulator(circular=False)"
   ]
  },
  {
   "cell_type": "code",
   "execution_count": 21,
   "metadata": {},
   "outputs": [
    {
     "name": "stderr",
     "output_type": "stream",
     "text": [
      "\n",
      "[build] loading fasta file simulated.fasta.gz\n",
      "[build] k-mer length: 31\n",
      "[build] counting k-mers ... done.\n",
      "[build] building target de Bruijn graph ...  done \n",
      "[build] creating equivalence classes ...  done\n",
      "[build] target de Bruijn graph has 13 contigs and contains 8970 k-mers \n",
      "\n"
     ]
    }
   ],
   "source": [
    "# Building a kallisto index of the simulated experiment, which we'll call transcripts_3.idx\n",
    "!kallisto index -i transcripts_3.idx simulated.fasta.gz"
   ]
  },
  {
   "cell_type": "code",
   "execution_count": 22,
   "metadata": {},
   "outputs": [
    {
     "name": "stderr",
     "output_type": "stream",
     "text": [
      "\n",
      "[quant] fragment length distribution is truncated gaussian with mean = 75, sd = 10\n",
      "[index] k-mer length: 31\n",
      "[index] number of targets: 8\n",
      "[index] number of k-mers: 8,970\n",
      "[index] number of equivalence classes: 19\n",
      "[quant] running in single-end mode\n",
      "[quant] will process file 1: simulated.fastq.gz\n",
      "[quant] finding pseudoalignments for the reads ... done\n",
      "[quant] processed 99,999 reads, 99,999 reads pseudoaligned\n",
      "[   em] quantifying the abundances ... done\n",
      "[   em] the Expectation-Maximization algorithm ran for 52 rounds\n",
      "\n"
     ]
    }
   ],
   "source": [
    "!kallisto quant -i transcripts_3.idx -o experiment --single -l 75 -s 10 simulated.fastq.gz  "
   ]
  },
  {
   "cell_type": "code",
   "execution_count": 23,
   "metadata": {},
   "outputs": [],
   "source": [
    "# calculate nucleotide abundances following the formula: TPM_i = (V_i / L_i) * sum(V_i/L_j)^-1 * 1000000\n",
    "new_experiment_base_tpm = ((np.array([0.0449,0.0759,0.3279,0.1489,0.1639,0.0457,0.0959,0.0969]) / np.array([4000,2000,3000,4000,4000,3000,2000,2000])) /\n",
    " np.sum(np.array([0.0449,0.0759,0.3279,0.1489,0.1639,0.0449,0.0959,0.0969]) / np.array([4000,2000,3000,4000,4000,3000,2000,2000]))) * 1000000\n",
    "new_experiment_base_tpm = np.ndarray.round(new_experiment_base_tpm,decimals=2)\n",
    "# Getting the TPM difference in percentages between the calculated baseline TPM and the output from Kalisto\n",
    "TPM_differnece_in_percentage =  np.abs(np.array([32733.1,107026,313448,111978,103443,54679.9,135347,141346]) /new_experiment_base_tpm - 1) * 100"
   ]
  },
  {
   "cell_type": "code",
   "execution_count": 12,
   "metadata": {},
   "outputs": [
    {
     "name": "stdout",
     "output_type": "stream",
     "text": [
      "[ 32251.89 109038.67 314042.86 106955.58 117730.16  43768.71 137770.86\n",
      " 139207.47]\n",
      "[ 1.49203659  1.84583139  0.18942     4.69579988 12.13551396 24.92920171\n",
      "  1.75934156  1.53621785]\n"
     ]
    }
   ],
   "source": [
    "print(new_experiment_base_tpm)\n",
    "print(TPM_differnece_in_percentage)"
   ]
  },
  {
   "cell_type": "markdown",
   "metadata": {},
   "source": [
    "#### Table of results from my experiment trying to 'correct' Kallisto:\n",
    "| Transcript | Nucleotide Abundance | Length| Baseline TPM | Kallisto TPM Output | Segments Covered | Percent Difference (Baseline TPM vs Kallisto TPM output)\n",
    "| --- | --- | --- | --- | --- | --- | --- | \n",
    "| Arc 1 |0.0449   |4000 | 32251.89| 32733.1   | ABCD | 1.49% |\n",
    "| Arc 2 |0.0759   |2000 | 109038.67| 107026  |  BC   | 1.84% |\n",
    "| Arc 3 |0.3279   |3000 | 314042.86| 313448  |  CDE  | 0.19% |\n",
    "| Arc 4 |0.1489   |4000 | 106955.58|111978  |   DEFG | 4.70% |\n",
    "| Arc 5 |0.1639   |4000 | 117730.16| 103443  |  EFGH | 12.14% |\n",
    "| Arc 6 |0.0457   |3000 | 43768.71| 54679.7  |  FGH  | 24.93%|\n",
    "| Arc 7 |0.0959   |2000 | 137770.86| 135347 |   GH   | 1.76%|\n",
    "| Arc 8 |0.0969   |2000 | 139207.47| 141346 |   HI   | 1.54% |"
   ]
  },
  {
   "cell_type": "markdown",
   "metadata": {},
   "source": [
    "### From the above table of the experiment I performed based on the linear transcriptome I generated, we can see that the baseline TPM is approximately the same as the TPM output from Kallisto. More sepcifically, the TPM similarity has improved for both Arc1 and Arc6. Thus, my hypothesis that Kallisto does not quantificate circular sequence well is generally supported by this result. The difference of 2x that was previously observed in Arc 6 is now reduced to approximately 1.25x after the experiment, but this is still a significant difference. I suspect that this difference is due to segment overlap: all segments (FGH) of Arc 6 is in Arc 5 also all part of Arc 7 (GH) is in Arc 6. However, this new hypothesis needs to be proved by further anaylsis.\n",
    "\n",
    "### Overall, I conclude that the discrepancy we are seeing with Kallisto's quantification is partially due to the transcriptome being circular. In addition, further experiments should explore the impact of significant segment overlap on Kallisto's quantificatoin accuarcy."
   ]
  }
 ],
 "metadata": {
  "kernelspec": {
   "display_name": "Python 3.9.7 ('base')",
   "language": "python",
   "name": "python3"
  },
  "language_info": {
   "codemirror_mode": {
    "name": "ipython",
    "version": 3
   },
   "file_extension": ".py",
   "mimetype": "text/x-python",
   "name": "python",
   "nbconvert_exporter": "python",
   "pygments_lexer": "ipython3",
   "version": "3.9.7"
  },
  "orig_nbformat": 4,
  "vscode": {
   "interpreter": {
    "hash": "cf03e3dae6cd90215c49561c10ab9ba5e35cdc7a8fe6139efc815ef068c0abf4"
   }
  }
 },
 "nbformat": 4,
 "nbformat_minor": 2
}
